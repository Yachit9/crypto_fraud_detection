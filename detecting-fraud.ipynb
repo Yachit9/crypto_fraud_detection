{
 "cells": [
  {
   "cell_type": "code",
   "execution_count": 1,
   "id": "3ed97a30",
   "metadata": {
    "_cell_guid": "b1076dfc-b9ad-4769-8c92-a6c4dae69d19",
    "_uuid": "8f2839f25d086af736a60e9eeb907d3b93b6e0e5",
    "execution": {
     "iopub.execute_input": "2024-08-29T16:09:02.212154Z",
     "iopub.status.busy": "2024-08-29T16:09:02.211541Z",
     "iopub.status.idle": "2024-08-29T16:09:02.701348Z",
     "shell.execute_reply": "2024-08-29T16:09:02.699663Z"
    },
    "papermill": {
     "duration": 0.511279,
     "end_time": "2024-08-29T16:09:02.704468",
     "exception": false,
     "start_time": "2024-08-29T16:09:02.193189",
     "status": "completed"
    },
    "tags": []
   },
   "outputs": [
    {
     "name": "stdout",
     "output_type": "stream",
     "text": [
      "/kaggle/input/ethereum-frauddetection-dataset/transaction_dataset.csv\n"
     ]
    }
   ],
   "source": [
    "# This Python 3 environment comes with many helpful analytics libraries installed\n",
    "# It is defined by the kaggle/python Docker image: https://github.com/kaggle/docker-python\n",
    "# For example, here's several helpful packages to load\n",
    "\n",
    "import numpy as np # linear algebra\n",
    "import pandas as pd # data processing, CSV file I/O (e.g. pd.read_csv)\n",
    "\n",
    "# Input data files are available in the read-only \"../input/\" directory\n",
    "# For example, running this (by clicking run or pressing Shift+Enter) will list all files under the input directory\n",
    "\n",
    "import os\n",
    "for dirname, _, filenames in os.walk('/kaggle/input'):\n",
    "    for filename in filenames:\n",
    "        print(os.path.join(dirname, filename))\n",
    "\n",
    "# You can write up to 20GB to the current directory (/kaggle/working/) that gets preserved as output when you create a version using \"Save & Run All\" \n",
    "# You can also write temporary files to /kaggle/temp/, but they won't be saved outside of the current session"
   ]
  },
  {
   "cell_type": "code",
   "execution_count": 2,
   "id": "c14b7b89",
   "metadata": {
    "execution": {
     "iopub.execute_input": "2024-08-29T16:09:02.738018Z",
     "iopub.status.busy": "2024-08-29T16:09:02.737384Z",
     "iopub.status.idle": "2024-08-29T16:09:02.912215Z",
     "shell.execute_reply": "2024-08-29T16:09:02.910906Z"
    },
    "papermill": {
     "duration": 0.19459,
     "end_time": "2024-08-29T16:09:02.915197",
     "exception": false,
     "start_time": "2024-08-29T16:09:02.720607",
     "status": "completed"
    },
    "tags": []
   },
   "outputs": [],
   "source": [
    "df=pd.read_csv('/kaggle/input/ethereum-frauddetection-dataset/transaction_dataset.csv')"
   ]
  },
  {
   "cell_type": "code",
   "execution_count": 3,
   "id": "1aa56b29",
   "metadata": {
    "execution": {
     "iopub.execute_input": "2024-08-29T16:09:02.949555Z",
     "iopub.status.busy": "2024-08-29T16:09:02.949031Z",
     "iopub.status.idle": "2024-08-29T16:09:03.009048Z",
     "shell.execute_reply": "2024-08-29T16:09:03.007613Z"
    },
    "papermill": {
     "duration": 0.08098,
     "end_time": "2024-08-29T16:09:03.012005",
     "exception": false,
     "start_time": "2024-08-29T16:09:02.931025",
     "status": "completed"
    },
    "tags": []
   },
   "outputs": [
    {
     "data": {
      "text/html": [
       "<div>\n",
       "<style scoped>\n",
       "    .dataframe tbody tr th:only-of-type {\n",
       "        vertical-align: middle;\n",
       "    }\n",
       "\n",
       "    .dataframe tbody tr th {\n",
       "        vertical-align: top;\n",
       "    }\n",
       "\n",
       "    .dataframe thead th {\n",
       "        text-align: right;\n",
       "    }\n",
       "</style>\n",
       "<table border=\"1\" class=\"dataframe\">\n",
       "  <thead>\n",
       "    <tr style=\"text-align: right;\">\n",
       "      <th></th>\n",
       "      <th>Unnamed: 0</th>\n",
       "      <th>Index</th>\n",
       "      <th>Address</th>\n",
       "      <th>FLAG</th>\n",
       "      <th>Avg min between sent tnx</th>\n",
       "      <th>Avg min between received tnx</th>\n",
       "      <th>Time Diff between first and last (Mins)</th>\n",
       "      <th>Sent tnx</th>\n",
       "      <th>Received Tnx</th>\n",
       "      <th>Number of Created Contracts</th>\n",
       "      <th>...</th>\n",
       "      <th>ERC20 min val sent</th>\n",
       "      <th>ERC20 max val sent</th>\n",
       "      <th>ERC20 avg val sent</th>\n",
       "      <th>ERC20 min val sent contract</th>\n",
       "      <th>ERC20 max val sent contract</th>\n",
       "      <th>ERC20 avg val sent contract</th>\n",
       "      <th>ERC20 uniq sent token name</th>\n",
       "      <th>ERC20 uniq rec token name</th>\n",
       "      <th>ERC20 most sent token type</th>\n",
       "      <th>ERC20_most_rec_token_type</th>\n",
       "    </tr>\n",
       "  </thead>\n",
       "  <tbody>\n",
       "    <tr>\n",
       "      <th>0</th>\n",
       "      <td>0</td>\n",
       "      <td>1</td>\n",
       "      <td>0x00009277775ac7d0d59eaad8fee3d10ac6c805e8</td>\n",
       "      <td>0</td>\n",
       "      <td>844.26</td>\n",
       "      <td>1093.71</td>\n",
       "      <td>704785.63</td>\n",
       "      <td>721</td>\n",
       "      <td>89</td>\n",
       "      <td>0</td>\n",
       "      <td>...</td>\n",
       "      <td>0.000000</td>\n",
       "      <td>1.683100e+07</td>\n",
       "      <td>271779.920000</td>\n",
       "      <td>0.0</td>\n",
       "      <td>0.0</td>\n",
       "      <td>0.0</td>\n",
       "      <td>39.0</td>\n",
       "      <td>57.0</td>\n",
       "      <td>Cofoundit</td>\n",
       "      <td>Numeraire</td>\n",
       "    </tr>\n",
       "    <tr>\n",
       "      <th>1</th>\n",
       "      <td>1</td>\n",
       "      <td>2</td>\n",
       "      <td>0x0002b44ddb1476db43c868bd494422ee4c136fed</td>\n",
       "      <td>0</td>\n",
       "      <td>12709.07</td>\n",
       "      <td>2958.44</td>\n",
       "      <td>1218216.73</td>\n",
       "      <td>94</td>\n",
       "      <td>8</td>\n",
       "      <td>0</td>\n",
       "      <td>...</td>\n",
       "      <td>2.260809</td>\n",
       "      <td>2.260809e+00</td>\n",
       "      <td>2.260809</td>\n",
       "      <td>0.0</td>\n",
       "      <td>0.0</td>\n",
       "      <td>0.0</td>\n",
       "      <td>1.0</td>\n",
       "      <td>7.0</td>\n",
       "      <td>Livepeer Token</td>\n",
       "      <td>Livepeer Token</td>\n",
       "    </tr>\n",
       "    <tr>\n",
       "      <th>2</th>\n",
       "      <td>2</td>\n",
       "      <td>3</td>\n",
       "      <td>0x0002bda54cb772d040f779e88eb453cac0daa244</td>\n",
       "      <td>0</td>\n",
       "      <td>246194.54</td>\n",
       "      <td>2434.02</td>\n",
       "      <td>516729.30</td>\n",
       "      <td>2</td>\n",
       "      <td>10</td>\n",
       "      <td>0</td>\n",
       "      <td>...</td>\n",
       "      <td>0.000000</td>\n",
       "      <td>0.000000e+00</td>\n",
       "      <td>0.000000</td>\n",
       "      <td>0.0</td>\n",
       "      <td>0.0</td>\n",
       "      <td>0.0</td>\n",
       "      <td>0.0</td>\n",
       "      <td>8.0</td>\n",
       "      <td>NaN</td>\n",
       "      <td>XENON</td>\n",
       "    </tr>\n",
       "    <tr>\n",
       "      <th>3</th>\n",
       "      <td>3</td>\n",
       "      <td>4</td>\n",
       "      <td>0x00038e6ba2fd5c09aedb96697c8d7b8fa6632e5e</td>\n",
       "      <td>0</td>\n",
       "      <td>10219.60</td>\n",
       "      <td>15785.09</td>\n",
       "      <td>397555.90</td>\n",
       "      <td>25</td>\n",
       "      <td>9</td>\n",
       "      <td>0</td>\n",
       "      <td>...</td>\n",
       "      <td>100.000000</td>\n",
       "      <td>9.029231e+03</td>\n",
       "      <td>3804.076893</td>\n",
       "      <td>0.0</td>\n",
       "      <td>0.0</td>\n",
       "      <td>0.0</td>\n",
       "      <td>1.0</td>\n",
       "      <td>11.0</td>\n",
       "      <td>Raiden</td>\n",
       "      <td>XENON</td>\n",
       "    </tr>\n",
       "    <tr>\n",
       "      <th>4</th>\n",
       "      <td>4</td>\n",
       "      <td>5</td>\n",
       "      <td>0x00062d1dd1afb6fb02540ddad9cdebfe568e0d89</td>\n",
       "      <td>0</td>\n",
       "      <td>36.61</td>\n",
       "      <td>10707.77</td>\n",
       "      <td>382472.42</td>\n",
       "      <td>4598</td>\n",
       "      <td>20</td>\n",
       "      <td>1</td>\n",
       "      <td>...</td>\n",
       "      <td>0.000000</td>\n",
       "      <td>4.500000e+04</td>\n",
       "      <td>13726.659220</td>\n",
       "      <td>0.0</td>\n",
       "      <td>0.0</td>\n",
       "      <td>0.0</td>\n",
       "      <td>6.0</td>\n",
       "      <td>27.0</td>\n",
       "      <td>StatusNetwork</td>\n",
       "      <td>EOS</td>\n",
       "    </tr>\n",
       "  </tbody>\n",
       "</table>\n",
       "<p>5 rows × 51 columns</p>\n",
       "</div>"
      ],
      "text/plain": [
       "   Unnamed: 0  Index                                     Address  FLAG  \\\n",
       "0           0      1  0x00009277775ac7d0d59eaad8fee3d10ac6c805e8     0   \n",
       "1           1      2  0x0002b44ddb1476db43c868bd494422ee4c136fed     0   \n",
       "2           2      3  0x0002bda54cb772d040f779e88eb453cac0daa244     0   \n",
       "3           3      4  0x00038e6ba2fd5c09aedb96697c8d7b8fa6632e5e     0   \n",
       "4           4      5  0x00062d1dd1afb6fb02540ddad9cdebfe568e0d89     0   \n",
       "\n",
       "   Avg min between sent tnx  Avg min between received tnx  \\\n",
       "0                    844.26                       1093.71   \n",
       "1                  12709.07                       2958.44   \n",
       "2                 246194.54                       2434.02   \n",
       "3                  10219.60                      15785.09   \n",
       "4                     36.61                      10707.77   \n",
       "\n",
       "   Time Diff between first and last (Mins)  Sent tnx  Received Tnx  \\\n",
       "0                                704785.63       721            89   \n",
       "1                               1218216.73        94             8   \n",
       "2                                516729.30         2            10   \n",
       "3                                397555.90        25             9   \n",
       "4                                382472.42      4598            20   \n",
       "\n",
       "   Number of Created Contracts  ...   ERC20 min val sent   ERC20 max val sent  \\\n",
       "0                            0  ...             0.000000         1.683100e+07   \n",
       "1                            0  ...             2.260809         2.260809e+00   \n",
       "2                            0  ...             0.000000         0.000000e+00   \n",
       "3                            0  ...           100.000000         9.029231e+03   \n",
       "4                            1  ...             0.000000         4.500000e+04   \n",
       "\n",
       "    ERC20 avg val sent   ERC20 min val sent contract  \\\n",
       "0        271779.920000                           0.0   \n",
       "1             2.260809                           0.0   \n",
       "2             0.000000                           0.0   \n",
       "3          3804.076893                           0.0   \n",
       "4         13726.659220                           0.0   \n",
       "\n",
       "    ERC20 max val sent contract   ERC20 avg val sent contract  \\\n",
       "0                           0.0                           0.0   \n",
       "1                           0.0                           0.0   \n",
       "2                           0.0                           0.0   \n",
       "3                           0.0                           0.0   \n",
       "4                           0.0                           0.0   \n",
       "\n",
       "    ERC20 uniq sent token name   ERC20 uniq rec token name  \\\n",
       "0                         39.0                        57.0   \n",
       "1                          1.0                         7.0   \n",
       "2                          0.0                         8.0   \n",
       "3                          1.0                        11.0   \n",
       "4                          6.0                        27.0   \n",
       "\n",
       "    ERC20 most sent token type   ERC20_most_rec_token_type  \n",
       "0                    Cofoundit                   Numeraire  \n",
       "1               Livepeer Token              Livepeer Token  \n",
       "2                          NaN                       XENON  \n",
       "3                       Raiden                       XENON  \n",
       "4                StatusNetwork                         EOS  \n",
       "\n",
       "[5 rows x 51 columns]"
      ]
     },
     "execution_count": 3,
     "metadata": {},
     "output_type": "execute_result"
    }
   ],
   "source": [
    "df.head()"
   ]
  },
  {
   "cell_type": "code",
   "execution_count": 4,
   "id": "a2ca2426",
   "metadata": {
    "execution": {
     "iopub.execute_input": "2024-08-29T16:09:03.045683Z",
     "iopub.status.busy": "2024-08-29T16:09:03.045231Z",
     "iopub.status.idle": "2024-08-29T16:09:03.075801Z",
     "shell.execute_reply": "2024-08-29T16:09:03.074658Z"
    },
    "papermill": {
     "duration": 0.051045,
     "end_time": "2024-08-29T16:09:03.079327",
     "exception": false,
     "start_time": "2024-08-29T16:09:03.028282",
     "status": "completed"
    },
    "tags": []
   },
   "outputs": [
    {
     "name": "stdout",
     "output_type": "stream",
     "text": [
      "<class 'pandas.core.frame.DataFrame'>\n",
      "RangeIndex: 9841 entries, 0 to 9840\n",
      "Data columns (total 51 columns):\n",
      " #   Column                                                Non-Null Count  Dtype  \n",
      "---  ------                                                --------------  -----  \n",
      " 0   Unnamed: 0                                            9841 non-null   int64  \n",
      " 1   Index                                                 9841 non-null   int64  \n",
      " 2   Address                                               9841 non-null   object \n",
      " 3   FLAG                                                  9841 non-null   int64  \n",
      " 4   Avg min between sent tnx                              9841 non-null   float64\n",
      " 5   Avg min between received tnx                          9841 non-null   float64\n",
      " 6   Time Diff between first and last (Mins)               9841 non-null   float64\n",
      " 7   Sent tnx                                              9841 non-null   int64  \n",
      " 8   Received Tnx                                          9841 non-null   int64  \n",
      " 9   Number of Created Contracts                           9841 non-null   int64  \n",
      " 10  Unique Received From Addresses                        9841 non-null   int64  \n",
      " 11  Unique Sent To Addresses                              9841 non-null   int64  \n",
      " 12  min value received                                    9841 non-null   float64\n",
      " 13  max value received                                    9841 non-null   float64\n",
      " 14  avg val received                                      9841 non-null   float64\n",
      " 15  min val sent                                          9841 non-null   float64\n",
      " 16  max val sent                                          9841 non-null   float64\n",
      " 17  avg val sent                                          9841 non-null   float64\n",
      " 18  min value sent to contract                            9841 non-null   float64\n",
      " 19  max val sent to contract                              9841 non-null   float64\n",
      " 20  avg value sent to contract                            9841 non-null   float64\n",
      " 21  total transactions (including tnx to create contract  9841 non-null   int64  \n",
      " 22  total Ether sent                                      9841 non-null   float64\n",
      " 23  total ether received                                  9841 non-null   float64\n",
      " 24  total ether sent contracts                            9841 non-null   float64\n",
      " 25  total ether balance                                   9841 non-null   float64\n",
      " 26   Total ERC20 tnxs                                     9012 non-null   float64\n",
      " 27   ERC20 total Ether received                           9012 non-null   float64\n",
      " 28   ERC20 total ether sent                               9012 non-null   float64\n",
      " 29   ERC20 total Ether sent contract                      9012 non-null   float64\n",
      " 30   ERC20 uniq sent addr                                 9012 non-null   float64\n",
      " 31   ERC20 uniq rec addr                                  9012 non-null   float64\n",
      " 32   ERC20 uniq sent addr.1                               9012 non-null   float64\n",
      " 33   ERC20 uniq rec contract addr                         9012 non-null   float64\n",
      " 34   ERC20 avg time between sent tnx                      9012 non-null   float64\n",
      " 35   ERC20 avg time between rec tnx                       9012 non-null   float64\n",
      " 36   ERC20 avg time between rec 2 tnx                     9012 non-null   float64\n",
      " 37   ERC20 avg time between contract tnx                  9012 non-null   float64\n",
      " 38   ERC20 min val rec                                    9012 non-null   float64\n",
      " 39   ERC20 max val rec                                    9012 non-null   float64\n",
      " 40   ERC20 avg val rec                                    9012 non-null   float64\n",
      " 41   ERC20 min val sent                                   9012 non-null   float64\n",
      " 42   ERC20 max val sent                                   9012 non-null   float64\n",
      " 43   ERC20 avg val sent                                   9012 non-null   float64\n",
      " 44   ERC20 min val sent contract                          9012 non-null   float64\n",
      " 45   ERC20 max val sent contract                          9012 non-null   float64\n",
      " 46   ERC20 avg val sent contract                          9012 non-null   float64\n",
      " 47   ERC20 uniq sent token name                           9012 non-null   float64\n",
      " 48   ERC20 uniq rec token name                            9012 non-null   float64\n",
      " 49   ERC20 most sent token type                           7144 non-null   object \n",
      " 50   ERC20_most_rec_token_type                            8970 non-null   object \n",
      "dtypes: float64(39), int64(9), object(3)\n",
      "memory usage: 3.8+ MB\n"
     ]
    }
   ],
   "source": [
    "df.info()"
   ]
  },
  {
   "cell_type": "code",
   "execution_count": 5,
   "id": "5f3d9060",
   "metadata": {
    "execution": {
     "iopub.execute_input": "2024-08-29T16:09:03.113243Z",
     "iopub.status.busy": "2024-08-29T16:09:03.112758Z",
     "iopub.status.idle": "2024-08-29T16:09:03.122923Z",
     "shell.execute_reply": "2024-08-29T16:09:03.121700Z"
    },
    "papermill": {
     "duration": 0.030598,
     "end_time": "2024-08-29T16:09:03.125949",
     "exception": false,
     "start_time": "2024-08-29T16:09:03.095351",
     "status": "completed"
    },
    "tags": []
   },
   "outputs": [],
   "source": [
    "df.drop(['Unnamed: 0','Index'],axis=1,inplace=True)"
   ]
  },
  {
   "cell_type": "code",
   "execution_count": 6,
   "id": "fc615cd2",
   "metadata": {
    "execution": {
     "iopub.execute_input": "2024-08-29T16:09:03.160758Z",
     "iopub.status.busy": "2024-08-29T16:09:03.159667Z",
     "iopub.status.idle": "2024-08-29T16:09:03.189387Z",
     "shell.execute_reply": "2024-08-29T16:09:03.188017Z"
    },
    "papermill": {
     "duration": 0.049739,
     "end_time": "2024-08-29T16:09:03.191901",
     "exception": false,
     "start_time": "2024-08-29T16:09:03.142162",
     "status": "completed"
    },
    "tags": []
   },
   "outputs": [
    {
     "data": {
      "text/html": [
       "<div>\n",
       "<style scoped>\n",
       "    .dataframe tbody tr th:only-of-type {\n",
       "        vertical-align: middle;\n",
       "    }\n",
       "\n",
       "    .dataframe tbody tr th {\n",
       "        vertical-align: top;\n",
       "    }\n",
       "\n",
       "    .dataframe thead th {\n",
       "        text-align: right;\n",
       "    }\n",
       "</style>\n",
       "<table border=\"1\" class=\"dataframe\">\n",
       "  <thead>\n",
       "    <tr style=\"text-align: right;\">\n",
       "      <th></th>\n",
       "      <th>Address</th>\n",
       "      <th>FLAG</th>\n",
       "      <th>Avg min between sent tnx</th>\n",
       "      <th>Avg min between received tnx</th>\n",
       "      <th>Time Diff between first and last (Mins)</th>\n",
       "      <th>Sent tnx</th>\n",
       "      <th>Received Tnx</th>\n",
       "      <th>Number of Created Contracts</th>\n",
       "      <th>Unique Received From Addresses</th>\n",
       "      <th>Unique Sent To Addresses</th>\n",
       "      <th>...</th>\n",
       "      <th>ERC20 min val sent</th>\n",
       "      <th>ERC20 max val sent</th>\n",
       "      <th>ERC20 avg val sent</th>\n",
       "      <th>ERC20 min val sent contract</th>\n",
       "      <th>ERC20 max val sent contract</th>\n",
       "      <th>ERC20 avg val sent contract</th>\n",
       "      <th>ERC20 uniq sent token name</th>\n",
       "      <th>ERC20 uniq rec token name</th>\n",
       "      <th>ERC20 most sent token type</th>\n",
       "      <th>ERC20_most_rec_token_type</th>\n",
       "    </tr>\n",
       "  </thead>\n",
       "  <tbody>\n",
       "    <tr>\n",
       "      <th>0</th>\n",
       "      <td>0x00009277775ac7d0d59eaad8fee3d10ac6c805e8</td>\n",
       "      <td>0</td>\n",
       "      <td>844.26</td>\n",
       "      <td>1093.71</td>\n",
       "      <td>704785.63</td>\n",
       "      <td>721</td>\n",
       "      <td>89</td>\n",
       "      <td>0</td>\n",
       "      <td>40</td>\n",
       "      <td>118</td>\n",
       "      <td>...</td>\n",
       "      <td>0.000000</td>\n",
       "      <td>1.683100e+07</td>\n",
       "      <td>271779.920000</td>\n",
       "      <td>0.0</td>\n",
       "      <td>0.0</td>\n",
       "      <td>0.0</td>\n",
       "      <td>39.0</td>\n",
       "      <td>57.0</td>\n",
       "      <td>Cofoundit</td>\n",
       "      <td>Numeraire</td>\n",
       "    </tr>\n",
       "    <tr>\n",
       "      <th>1</th>\n",
       "      <td>0x0002b44ddb1476db43c868bd494422ee4c136fed</td>\n",
       "      <td>0</td>\n",
       "      <td>12709.07</td>\n",
       "      <td>2958.44</td>\n",
       "      <td>1218216.73</td>\n",
       "      <td>94</td>\n",
       "      <td>8</td>\n",
       "      <td>0</td>\n",
       "      <td>5</td>\n",
       "      <td>14</td>\n",
       "      <td>...</td>\n",
       "      <td>2.260809</td>\n",
       "      <td>2.260809e+00</td>\n",
       "      <td>2.260809</td>\n",
       "      <td>0.0</td>\n",
       "      <td>0.0</td>\n",
       "      <td>0.0</td>\n",
       "      <td>1.0</td>\n",
       "      <td>7.0</td>\n",
       "      <td>Livepeer Token</td>\n",
       "      <td>Livepeer Token</td>\n",
       "    </tr>\n",
       "    <tr>\n",
       "      <th>2</th>\n",
       "      <td>0x0002bda54cb772d040f779e88eb453cac0daa244</td>\n",
       "      <td>0</td>\n",
       "      <td>246194.54</td>\n",
       "      <td>2434.02</td>\n",
       "      <td>516729.30</td>\n",
       "      <td>2</td>\n",
       "      <td>10</td>\n",
       "      <td>0</td>\n",
       "      <td>10</td>\n",
       "      <td>2</td>\n",
       "      <td>...</td>\n",
       "      <td>0.000000</td>\n",
       "      <td>0.000000e+00</td>\n",
       "      <td>0.000000</td>\n",
       "      <td>0.0</td>\n",
       "      <td>0.0</td>\n",
       "      <td>0.0</td>\n",
       "      <td>0.0</td>\n",
       "      <td>8.0</td>\n",
       "      <td>NaN</td>\n",
       "      <td>XENON</td>\n",
       "    </tr>\n",
       "    <tr>\n",
       "      <th>3</th>\n",
       "      <td>0x00038e6ba2fd5c09aedb96697c8d7b8fa6632e5e</td>\n",
       "      <td>0</td>\n",
       "      <td>10219.60</td>\n",
       "      <td>15785.09</td>\n",
       "      <td>397555.90</td>\n",
       "      <td>25</td>\n",
       "      <td>9</td>\n",
       "      <td>0</td>\n",
       "      <td>7</td>\n",
       "      <td>13</td>\n",
       "      <td>...</td>\n",
       "      <td>100.000000</td>\n",
       "      <td>9.029231e+03</td>\n",
       "      <td>3804.076893</td>\n",
       "      <td>0.0</td>\n",
       "      <td>0.0</td>\n",
       "      <td>0.0</td>\n",
       "      <td>1.0</td>\n",
       "      <td>11.0</td>\n",
       "      <td>Raiden</td>\n",
       "      <td>XENON</td>\n",
       "    </tr>\n",
       "    <tr>\n",
       "      <th>4</th>\n",
       "      <td>0x00062d1dd1afb6fb02540ddad9cdebfe568e0d89</td>\n",
       "      <td>0</td>\n",
       "      <td>36.61</td>\n",
       "      <td>10707.77</td>\n",
       "      <td>382472.42</td>\n",
       "      <td>4598</td>\n",
       "      <td>20</td>\n",
       "      <td>1</td>\n",
       "      <td>7</td>\n",
       "      <td>19</td>\n",
       "      <td>...</td>\n",
       "      <td>0.000000</td>\n",
       "      <td>4.500000e+04</td>\n",
       "      <td>13726.659220</td>\n",
       "      <td>0.0</td>\n",
       "      <td>0.0</td>\n",
       "      <td>0.0</td>\n",
       "      <td>6.0</td>\n",
       "      <td>27.0</td>\n",
       "      <td>StatusNetwork</td>\n",
       "      <td>EOS</td>\n",
       "    </tr>\n",
       "  </tbody>\n",
       "</table>\n",
       "<p>5 rows × 49 columns</p>\n",
       "</div>"
      ],
      "text/plain": [
       "                                      Address  FLAG  Avg min between sent tnx  \\\n",
       "0  0x00009277775ac7d0d59eaad8fee3d10ac6c805e8     0                    844.26   \n",
       "1  0x0002b44ddb1476db43c868bd494422ee4c136fed     0                  12709.07   \n",
       "2  0x0002bda54cb772d040f779e88eb453cac0daa244     0                 246194.54   \n",
       "3  0x00038e6ba2fd5c09aedb96697c8d7b8fa6632e5e     0                  10219.60   \n",
       "4  0x00062d1dd1afb6fb02540ddad9cdebfe568e0d89     0                     36.61   \n",
       "\n",
       "   Avg min between received tnx  Time Diff between first and last (Mins)  \\\n",
       "0                       1093.71                                704785.63   \n",
       "1                       2958.44                               1218216.73   \n",
       "2                       2434.02                                516729.30   \n",
       "3                      15785.09                                397555.90   \n",
       "4                      10707.77                                382472.42   \n",
       "\n",
       "   Sent tnx  Received Tnx  Number of Created Contracts  \\\n",
       "0       721            89                            0   \n",
       "1        94             8                            0   \n",
       "2         2            10                            0   \n",
       "3        25             9                            0   \n",
       "4      4598            20                            1   \n",
       "\n",
       "   Unique Received From Addresses  Unique Sent To Addresses  ...  \\\n",
       "0                              40                       118  ...   \n",
       "1                               5                        14  ...   \n",
       "2                              10                         2  ...   \n",
       "3                               7                        13  ...   \n",
       "4                               7                        19  ...   \n",
       "\n",
       "    ERC20 min val sent   ERC20 max val sent   ERC20 avg val sent  \\\n",
       "0             0.000000         1.683100e+07        271779.920000   \n",
       "1             2.260809         2.260809e+00             2.260809   \n",
       "2             0.000000         0.000000e+00             0.000000   \n",
       "3           100.000000         9.029231e+03          3804.076893   \n",
       "4             0.000000         4.500000e+04         13726.659220   \n",
       "\n",
       "    ERC20 min val sent contract   ERC20 max val sent contract  \\\n",
       "0                           0.0                           0.0   \n",
       "1                           0.0                           0.0   \n",
       "2                           0.0                           0.0   \n",
       "3                           0.0                           0.0   \n",
       "4                           0.0                           0.0   \n",
       "\n",
       "    ERC20 avg val sent contract   ERC20 uniq sent token name  \\\n",
       "0                           0.0                         39.0   \n",
       "1                           0.0                          1.0   \n",
       "2                           0.0                          0.0   \n",
       "3                           0.0                          1.0   \n",
       "4                           0.0                          6.0   \n",
       "\n",
       "    ERC20 uniq rec token name   ERC20 most sent token type  \\\n",
       "0                        57.0                    Cofoundit   \n",
       "1                         7.0               Livepeer Token   \n",
       "2                         8.0                          NaN   \n",
       "3                        11.0                       Raiden   \n",
       "4                        27.0                StatusNetwork   \n",
       "\n",
       "    ERC20_most_rec_token_type  \n",
       "0                   Numeraire  \n",
       "1              Livepeer Token  \n",
       "2                       XENON  \n",
       "3                       XENON  \n",
       "4                         EOS  \n",
       "\n",
       "[5 rows x 49 columns]"
      ]
     },
     "execution_count": 6,
     "metadata": {},
     "output_type": "execute_result"
    }
   ],
   "source": [
    "df.head()"
   ]
  },
  {
   "cell_type": "code",
   "execution_count": 7,
   "id": "7d6fed2e",
   "metadata": {
    "execution": {
     "iopub.execute_input": "2024-08-29T16:09:03.226899Z",
     "iopub.status.busy": "2024-08-29T16:09:03.226441Z",
     "iopub.status.idle": "2024-08-29T16:09:03.240978Z",
     "shell.execute_reply": "2024-08-29T16:09:03.239757Z"
    },
    "papermill": {
     "duration": 0.035221,
     "end_time": "2024-08-29T16:09:03.243675",
     "exception": false,
     "start_time": "2024-08-29T16:09:03.208454",
     "status": "completed"
    },
    "tags": []
   },
   "outputs": [
    {
     "data": {
      "text/plain": [
       "Address                                                    0\n",
       "FLAG                                                       0\n",
       "Avg min between sent tnx                                   0\n",
       "Avg min between received tnx                               0\n",
       "Time Diff between first and last (Mins)                    0\n",
       "Sent tnx                                                   0\n",
       "Received Tnx                                               0\n",
       "Number of Created Contracts                                0\n",
       "Unique Received From Addresses                             0\n",
       "Unique Sent To Addresses                                   0\n",
       "min value received                                         0\n",
       "max value received                                         0\n",
       "avg val received                                           0\n",
       "min val sent                                               0\n",
       "max val sent                                               0\n",
       "avg val sent                                               0\n",
       "min value sent to contract                                 0\n",
       "max val sent to contract                                   0\n",
       "avg value sent to contract                                 0\n",
       "total transactions (including tnx to create contract       0\n",
       "total Ether sent                                           0\n",
       "total ether received                                       0\n",
       "total ether sent contracts                                 0\n",
       "total ether balance                                        0\n",
       " Total ERC20 tnxs                                        829\n",
       " ERC20 total Ether received                              829\n",
       " ERC20 total ether sent                                  829\n",
       " ERC20 total Ether sent contract                         829\n",
       " ERC20 uniq sent addr                                    829\n",
       " ERC20 uniq rec addr                                     829\n",
       " ERC20 uniq sent addr.1                                  829\n",
       " ERC20 uniq rec contract addr                            829\n",
       " ERC20 avg time between sent tnx                         829\n",
       " ERC20 avg time between rec tnx                          829\n",
       " ERC20 avg time between rec 2 tnx                        829\n",
       " ERC20 avg time between contract tnx                     829\n",
       " ERC20 min val rec                                       829\n",
       " ERC20 max val rec                                       829\n",
       " ERC20 avg val rec                                       829\n",
       " ERC20 min val sent                                      829\n",
       " ERC20 max val sent                                      829\n",
       " ERC20 avg val sent                                      829\n",
       " ERC20 min val sent contract                             829\n",
       " ERC20 max val sent contract                             829\n",
       " ERC20 avg val sent contract                             829\n",
       " ERC20 uniq sent token name                              829\n",
       " ERC20 uniq rec token name                               829\n",
       " ERC20 most sent token type                             2697\n",
       " ERC20_most_rec_token_type                               871\n",
       "dtype: int64"
      ]
     },
     "execution_count": 7,
     "metadata": {},
     "output_type": "execute_result"
    }
   ],
   "source": [
    "#checking for null values\n",
    "df.isnull().sum()"
   ]
  },
  {
   "cell_type": "code",
   "execution_count": 8,
   "id": "d21f203e",
   "metadata": {
    "execution": {
     "iopub.execute_input": "2024-08-29T16:09:03.278875Z",
     "iopub.status.busy": "2024-08-29T16:09:03.278446Z",
     "iopub.status.idle": "2024-08-29T16:09:03.286542Z",
     "shell.execute_reply": "2024-08-29T16:09:03.285379Z"
    },
    "papermill": {
     "duration": 0.028733,
     "end_time": "2024-08-29T16:09:03.289116",
     "exception": false,
     "start_time": "2024-08-29T16:09:03.260383",
     "status": "completed"
    },
    "tags": []
   },
   "outputs": [
    {
     "data": {
      "text/plain": [
       "(9841, 49)"
      ]
     },
     "execution_count": 8,
     "metadata": {},
     "output_type": "execute_result"
    }
   ],
   "source": [
    "df.shape"
   ]
  },
  {
   "cell_type": "code",
   "execution_count": 9,
   "id": "ac3a0ce0",
   "metadata": {
    "execution": {
     "iopub.execute_input": "2024-08-29T16:09:03.324367Z",
     "iopub.status.busy": "2024-08-29T16:09:03.323944Z",
     "iopub.status.idle": "2024-08-29T16:09:03.330210Z",
     "shell.execute_reply": "2024-08-29T16:09:03.328697Z"
    },
    "papermill": {
     "duration": 0.027504,
     "end_time": "2024-08-29T16:09:03.333404",
     "exception": false,
     "start_time": "2024-08-29T16:09:03.305900",
     "status": "completed"
    },
    "tags": []
   },
   "outputs": [],
   "source": [
    "#to remove leading or traiing spaces from column name which were causing the problem\n",
    "df.columns = df.columns.str.strip()"
   ]
  },
  {
   "cell_type": "code",
   "execution_count": 10,
   "id": "cbe482b4",
   "metadata": {
    "execution": {
     "iopub.execute_input": "2024-08-29T16:09:03.369552Z",
     "iopub.status.busy": "2024-08-29T16:09:03.369103Z",
     "iopub.status.idle": "2024-08-29T16:09:03.389016Z",
     "shell.execute_reply": "2024-08-29T16:09:03.387900Z"
    },
    "papermill": {
     "duration": 0.041178,
     "end_time": "2024-08-29T16:09:03.391982",
     "exception": false,
     "start_time": "2024-08-29T16:09:03.350804",
     "status": "completed"
    },
    "tags": []
   },
   "outputs": [],
   "source": [
    "#filling the numerical data with mean values\n",
    "columns_to_fill = [\n",
    "    'ERC20 total Ether received', 'ERC20 total ether sent', 'ERC20 total Ether sent contract',\n",
    "    'ERC20 avg time between sent tnx', 'ERC20 avg time between rec tnx',\n",
    "    'ERC20 avg time between rec 2 tnx', 'ERC20 avg time between contract tnx',\n",
    "    'ERC20 min val rec', 'ERC20 max val rec', 'ERC20 avg val rec',\n",
    "    'ERC20 min val sent', 'ERC20 max val sent', 'ERC20 avg val sent',\n",
    "    'ERC20 min val sent contract', 'ERC20 max val sent contract', 'ERC20 avg val sent contract'\n",
    "]\n",
    "\n",
    "df[columns_to_fill] = df[columns_to_fill].fillna(df[columns_to_fill].mean())\n"
   ]
  },
  {
   "cell_type": "code",
   "execution_count": 11,
   "id": "81febb61",
   "metadata": {
    "execution": {
     "iopub.execute_input": "2024-08-29T16:09:03.427916Z",
     "iopub.status.busy": "2024-08-29T16:09:03.427463Z",
     "iopub.status.idle": "2024-08-29T16:09:03.444686Z",
     "shell.execute_reply": "2024-08-29T16:09:03.443172Z"
    },
    "papermill": {
     "duration": 0.038001,
     "end_time": "2024-08-29T16:09:03.447369",
     "exception": false,
     "start_time": "2024-08-29T16:09:03.409368",
     "status": "completed"
    },
    "tags": []
   },
   "outputs": [
    {
     "data": {
      "text/plain": [
       "Address                                                    0\n",
       "FLAG                                                       0\n",
       "Avg min between sent tnx                                   0\n",
       "Avg min between received tnx                               0\n",
       "Time Diff between first and last (Mins)                    0\n",
       "Sent tnx                                                   0\n",
       "Received Tnx                                               0\n",
       "Number of Created Contracts                                0\n",
       "Unique Received From Addresses                             0\n",
       "Unique Sent To Addresses                                   0\n",
       "min value received                                         0\n",
       "max value received                                         0\n",
       "avg val received                                           0\n",
       "min val sent                                               0\n",
       "max val sent                                               0\n",
       "avg val sent                                               0\n",
       "min value sent to contract                                 0\n",
       "max val sent to contract                                   0\n",
       "avg value sent to contract                                 0\n",
       "total transactions (including tnx to create contract       0\n",
       "total Ether sent                                           0\n",
       "total ether received                                       0\n",
       "total ether sent contracts                                 0\n",
       "total ether balance                                        0\n",
       "Total ERC20 tnxs                                         829\n",
       "ERC20 total Ether received                                 0\n",
       "ERC20 total ether sent                                     0\n",
       "ERC20 total Ether sent contract                            0\n",
       "ERC20 uniq sent addr                                     829\n",
       "ERC20 uniq rec addr                                      829\n",
       "ERC20 uniq sent addr.1                                   829\n",
       "ERC20 uniq rec contract addr                             829\n",
       "ERC20 avg time between sent tnx                            0\n",
       "ERC20 avg time between rec tnx                             0\n",
       "ERC20 avg time between rec 2 tnx                           0\n",
       "ERC20 avg time between contract tnx                        0\n",
       "ERC20 min val rec                                          0\n",
       "ERC20 max val rec                                          0\n",
       "ERC20 avg val rec                                          0\n",
       "ERC20 min val sent                                         0\n",
       "ERC20 max val sent                                         0\n",
       "ERC20 avg val sent                                         0\n",
       "ERC20 min val sent contract                                0\n",
       "ERC20 max val sent contract                                0\n",
       "ERC20 avg val sent contract                                0\n",
       "ERC20 uniq sent token name                               829\n",
       "ERC20 uniq rec token name                                829\n",
       "ERC20 most sent token type                              2697\n",
       "ERC20_most_rec_token_type                                871\n",
       "dtype: int64"
      ]
     },
     "execution_count": 11,
     "metadata": {},
     "output_type": "execute_result"
    }
   ],
   "source": [
    "df.isnull().sum()"
   ]
  },
  {
   "cell_type": "code",
   "execution_count": 12,
   "id": "bfdd52fc",
   "metadata": {
    "execution": {
     "iopub.execute_input": "2024-08-29T16:09:03.483535Z",
     "iopub.status.busy": "2024-08-29T16:09:03.483044Z",
     "iopub.status.idle": "2024-08-29T16:09:03.496240Z",
     "shell.execute_reply": "2024-08-29T16:09:03.494715Z"
    },
    "papermill": {
     "duration": 0.034679,
     "end_time": "2024-08-29T16:09:03.499237",
     "exception": false,
     "start_time": "2024-08-29T16:09:03.464558",
     "status": "completed"
    },
    "tags": []
   },
   "outputs": [
    {
     "data": {
      "text/plain": [
       "ERC20_most_rec_token_type\n",
       "0                        4399\n",
       "OmiseGO                   873\n",
       "Blockwell say NOTSAFU     779\n",
       "DATAcoin                  358\n",
       "Livepeer Token            207\n",
       "                         ... \n",
       "BCDN                        1\n",
       "Egretia                     1\n",
       "UG Coin                     1\n",
       "Yun Planet                  1\n",
       "INS Promo1                  1\n",
       "Name: count, Length: 466, dtype: int64"
      ]
     },
     "execution_count": 12,
     "metadata": {},
     "output_type": "execute_result"
    }
   ],
   "source": [
    "df['ERC20_most_rec_token_type'].value_counts()"
   ]
  },
  {
   "cell_type": "code",
   "execution_count": 13,
   "id": "0a67a151",
   "metadata": {
    "execution": {
     "iopub.execute_input": "2024-08-29T16:09:03.535754Z",
     "iopub.status.busy": "2024-08-29T16:09:03.535321Z",
     "iopub.status.idle": "2024-08-29T16:09:03.541378Z",
     "shell.execute_reply": "2024-08-29T16:09:03.540219Z"
    },
    "papermill": {
     "duration": 0.027446,
     "end_time": "2024-08-29T16:09:03.544024",
     "exception": false,
     "start_time": "2024-08-29T16:09:03.516578",
     "status": "completed"
    },
    "tags": []
   },
   "outputs": [],
   "source": [
    "columns_to_drop=['ERC20 avg time between sent tnx', 'ERC20 avg time between rec tnx', 'ERC20 avg time between rec 2 tnx', 'ERC20 avg time between contract tnx', 'ERC20 min val sent contract', 'ERC20 max val sent contract', 'ERC20 avg val sent contract']"
   ]
  },
  {
   "cell_type": "code",
   "execution_count": 14,
   "id": "6f40f9d0",
   "metadata": {
    "execution": {
     "iopub.execute_input": "2024-08-29T16:09:03.584609Z",
     "iopub.status.busy": "2024-08-29T16:09:03.583701Z",
     "iopub.status.idle": "2024-08-29T16:09:03.592745Z",
     "shell.execute_reply": "2024-08-29T16:09:03.591523Z"
    },
    "papermill": {
     "duration": 0.032893,
     "end_time": "2024-08-29T16:09:03.595909",
     "exception": false,
     "start_time": "2024-08-29T16:09:03.563016",
     "status": "completed"
    },
    "tags": []
   },
   "outputs": [],
   "source": [
    "df.drop(columns_to_drop,axis=1,inplace=True)"
   ]
  },
  {
   "cell_type": "code",
   "execution_count": 15,
   "id": "dc0776a0",
   "metadata": {
    "execution": {
     "iopub.execute_input": "2024-08-29T16:09:03.632276Z",
     "iopub.status.busy": "2024-08-29T16:09:03.631777Z",
     "iopub.status.idle": "2024-08-29T16:09:03.647128Z",
     "shell.execute_reply": "2024-08-29T16:09:03.645937Z"
    },
    "papermill": {
     "duration": 0.036798,
     "end_time": "2024-08-29T16:09:03.649928",
     "exception": false,
     "start_time": "2024-08-29T16:09:03.613130",
     "status": "completed"
    },
    "tags": []
   },
   "outputs": [
    {
     "data": {
      "text/plain": [
       "Address                                                    0\n",
       "FLAG                                                       0\n",
       "Avg min between sent tnx                                   0\n",
       "Avg min between received tnx                               0\n",
       "Time Diff between first and last (Mins)                    0\n",
       "Sent tnx                                                   0\n",
       "Received Tnx                                               0\n",
       "Number of Created Contracts                                0\n",
       "Unique Received From Addresses                             0\n",
       "Unique Sent To Addresses                                   0\n",
       "min value received                                         0\n",
       "max value received                                         0\n",
       "avg val received                                           0\n",
       "min val sent                                               0\n",
       "max val sent                                               0\n",
       "avg val sent                                               0\n",
       "min value sent to contract                                 0\n",
       "max val sent to contract                                   0\n",
       "avg value sent to contract                                 0\n",
       "total transactions (including tnx to create contract       0\n",
       "total Ether sent                                           0\n",
       "total ether received                                       0\n",
       "total ether sent contracts                                 0\n",
       "total ether balance                                        0\n",
       "Total ERC20 tnxs                                         829\n",
       "ERC20 total Ether received                                 0\n",
       "ERC20 total ether sent                                     0\n",
       "ERC20 total Ether sent contract                            0\n",
       "ERC20 uniq sent addr                                     829\n",
       "ERC20 uniq rec addr                                      829\n",
       "ERC20 uniq sent addr.1                                   829\n",
       "ERC20 uniq rec contract addr                             829\n",
       "ERC20 min val rec                                          0\n",
       "ERC20 max val rec                                          0\n",
       "ERC20 avg val rec                                          0\n",
       "ERC20 min val sent                                         0\n",
       "ERC20 max val sent                                         0\n",
       "ERC20 avg val sent                                         0\n",
       "ERC20 uniq sent token name                               829\n",
       "ERC20 uniq rec token name                                829\n",
       "ERC20 most sent token type                              2697\n",
       "ERC20_most_rec_token_type                                871\n",
       "dtype: int64"
      ]
     },
     "execution_count": 15,
     "metadata": {},
     "output_type": "execute_result"
    }
   ],
   "source": [
    "df.isnull().sum()"
   ]
  },
  {
   "cell_type": "code",
   "execution_count": 16,
   "id": "991779dc",
   "metadata": {
    "execution": {
     "iopub.execute_input": "2024-08-29T16:09:03.687716Z",
     "iopub.status.busy": "2024-08-29T16:09:03.686636Z",
     "iopub.status.idle": "2024-08-29T16:09:03.692538Z",
     "shell.execute_reply": "2024-08-29T16:09:03.691275Z"
    },
    "papermill": {
     "duration": 0.027502,
     "end_time": "2024-08-29T16:09:03.695155",
     "exception": false,
     "start_time": "2024-08-29T16:09:03.667653",
     "status": "completed"
    },
    "tags": []
   },
   "outputs": [],
   "source": [
    "columns_to_drop_na=['Total ERC20 tnxs','ERC20 uniq sent addr','ERC20 uniq rec addr','ERC20 uniq sent addr.1','ERC20 uniq rec contract addr','ERC20 uniq sent token name','ERC20_most_rec_token_type']"
   ]
  },
  {
   "cell_type": "code",
   "execution_count": 17,
   "id": "ab98815c",
   "metadata": {
    "execution": {
     "iopub.execute_input": "2024-08-29T16:09:03.731866Z",
     "iopub.status.busy": "2024-08-29T16:09:03.731414Z",
     "iopub.status.idle": "2024-08-29T16:09:03.747162Z",
     "shell.execute_reply": "2024-08-29T16:09:03.745819Z"
    },
    "papermill": {
     "duration": 0.037717,
     "end_time": "2024-08-29T16:09:03.750256",
     "exception": false,
     "start_time": "2024-08-29T16:09:03.712539",
     "status": "completed"
    },
    "tags": []
   },
   "outputs": [],
   "source": [
    "# Drop rows where any of the specified columns have NaN values\n",
    "df = df.dropna(subset=columns_to_drop_na)\n"
   ]
  },
  {
   "cell_type": "code",
   "execution_count": 18,
   "id": "8dc8c9a0",
   "metadata": {
    "execution": {
     "iopub.execute_input": "2024-08-29T16:09:03.787234Z",
     "iopub.status.busy": "2024-08-29T16:09:03.786782Z",
     "iopub.status.idle": "2024-08-29T16:09:03.804532Z",
     "shell.execute_reply": "2024-08-29T16:09:03.803304Z"
    },
    "papermill": {
     "duration": 0.039414,
     "end_time": "2024-08-29T16:09:03.807232",
     "exception": false,
     "start_time": "2024-08-29T16:09:03.767818",
     "status": "completed"
    },
    "tags": []
   },
   "outputs": [
    {
     "data": {
      "text/plain": [
       "Address                                                 0\n",
       "FLAG                                                    0\n",
       "Avg min between sent tnx                                0\n",
       "Avg min between received tnx                            0\n",
       "Time Diff between first and last (Mins)                 0\n",
       "Sent tnx                                                0\n",
       "Received Tnx                                            0\n",
       "Number of Created Contracts                             0\n",
       "Unique Received From Addresses                          0\n",
       "Unique Sent To Addresses                                0\n",
       "min value received                                      0\n",
       "max value received                                      0\n",
       "avg val received                                        0\n",
       "min val sent                                            0\n",
       "max val sent                                            0\n",
       "avg val sent                                            0\n",
       "min value sent to contract                              0\n",
       "max val sent to contract                                0\n",
       "avg value sent to contract                              0\n",
       "total transactions (including tnx to create contract    0\n",
       "total Ether sent                                        0\n",
       "total ether received                                    0\n",
       "total ether sent contracts                              0\n",
       "total ether balance                                     0\n",
       "Total ERC20 tnxs                                        0\n",
       "ERC20 total Ether received                              0\n",
       "ERC20 total ether sent                                  0\n",
       "ERC20 total Ether sent contract                         0\n",
       "ERC20 uniq sent addr                                    0\n",
       "ERC20 uniq rec addr                                     0\n",
       "ERC20 uniq sent addr.1                                  0\n",
       "ERC20 uniq rec contract addr                            0\n",
       "ERC20 min val rec                                       0\n",
       "ERC20 max val rec                                       0\n",
       "ERC20 avg val rec                                       0\n",
       "ERC20 min val sent                                      0\n",
       "ERC20 max val sent                                      0\n",
       "ERC20 avg val sent                                      0\n",
       "ERC20 uniq sent token name                              0\n",
       "ERC20 uniq rec token name                               0\n",
       "ERC20 most sent token type                              0\n",
       "ERC20_most_rec_token_type                               0\n",
       "dtype: int64"
      ]
     },
     "execution_count": 18,
     "metadata": {},
     "output_type": "execute_result"
    }
   ],
   "source": [
    "df['ERC20 most sent token type'] = df['ERC20 most sent token type'].fillna('0')\n",
    "df.isna().sum()"
   ]
  },
  {
   "cell_type": "code",
   "execution_count": 19,
   "id": "ba413abb",
   "metadata": {
    "execution": {
     "iopub.execute_input": "2024-08-29T16:09:03.844107Z",
     "iopub.status.busy": "2024-08-29T16:09:03.843655Z",
     "iopub.status.idle": "2024-08-29T16:09:03.864014Z",
     "shell.execute_reply": "2024-08-29T16:09:03.862629Z"
    },
    "papermill": {
     "duration": 0.042206,
     "end_time": "2024-08-29T16:09:03.867003",
     "exception": false,
     "start_time": "2024-08-29T16:09:03.824797",
     "status": "completed"
    },
    "tags": []
   },
   "outputs": [
    {
     "name": "stdout",
     "output_type": "stream",
     "text": [
      "<class 'pandas.core.frame.DataFrame'>\n",
      "Index: 8970 entries, 0 to 9840\n",
      "Data columns (total 42 columns):\n",
      " #   Column                                                Non-Null Count  Dtype  \n",
      "---  ------                                                --------------  -----  \n",
      " 0   Address                                               8970 non-null   object \n",
      " 1   FLAG                                                  8970 non-null   int64  \n",
      " 2   Avg min between sent tnx                              8970 non-null   float64\n",
      " 3   Avg min between received tnx                          8970 non-null   float64\n",
      " 4   Time Diff between first and last (Mins)               8970 non-null   float64\n",
      " 5   Sent tnx                                              8970 non-null   int64  \n",
      " 6   Received Tnx                                          8970 non-null   int64  \n",
      " 7   Number of Created Contracts                           8970 non-null   int64  \n",
      " 8   Unique Received From Addresses                        8970 non-null   int64  \n",
      " 9   Unique Sent To Addresses                              8970 non-null   int64  \n",
      " 10  min value received                                    8970 non-null   float64\n",
      " 11  max value received                                    8970 non-null   float64\n",
      " 12  avg val received                                      8970 non-null   float64\n",
      " 13  min val sent                                          8970 non-null   float64\n",
      " 14  max val sent                                          8970 non-null   float64\n",
      " 15  avg val sent                                          8970 non-null   float64\n",
      " 16  min value sent to contract                            8970 non-null   float64\n",
      " 17  max val sent to contract                              8970 non-null   float64\n",
      " 18  avg value sent to contract                            8970 non-null   float64\n",
      " 19  total transactions (including tnx to create contract  8970 non-null   int64  \n",
      " 20  total Ether sent                                      8970 non-null   float64\n",
      " 21  total ether received                                  8970 non-null   float64\n",
      " 22  total ether sent contracts                            8970 non-null   float64\n",
      " 23  total ether balance                                   8970 non-null   float64\n",
      " 24  Total ERC20 tnxs                                      8970 non-null   float64\n",
      " 25  ERC20 total Ether received                            8970 non-null   float64\n",
      " 26  ERC20 total ether sent                                8970 non-null   float64\n",
      " 27  ERC20 total Ether sent contract                       8970 non-null   float64\n",
      " 28  ERC20 uniq sent addr                                  8970 non-null   float64\n",
      " 29  ERC20 uniq rec addr                                   8970 non-null   float64\n",
      " 30  ERC20 uniq sent addr.1                                8970 non-null   float64\n",
      " 31  ERC20 uniq rec contract addr                          8970 non-null   float64\n",
      " 32  ERC20 min val rec                                     8970 non-null   float64\n",
      " 33  ERC20 max val rec                                     8970 non-null   float64\n",
      " 34  ERC20 avg val rec                                     8970 non-null   float64\n",
      " 35  ERC20 min val sent                                    8970 non-null   float64\n",
      " 36  ERC20 max val sent                                    8970 non-null   float64\n",
      " 37  ERC20 avg val sent                                    8970 non-null   float64\n",
      " 38  ERC20 uniq sent token name                            8970 non-null   float64\n",
      " 39  ERC20 uniq rec token name                             8970 non-null   float64\n",
      " 40  ERC20 most sent token type                            8970 non-null   object \n",
      " 41  ERC20_most_rec_token_type                             8970 non-null   object \n",
      "dtypes: float64(32), int64(7), object(3)\n",
      "memory usage: 2.9+ MB\n"
     ]
    }
   ],
   "source": [
    "df.info()"
   ]
  },
  {
   "cell_type": "code",
   "execution_count": 20,
   "id": "fdb43d5a",
   "metadata": {
    "execution": {
     "iopub.execute_input": "2024-08-29T16:09:03.904850Z",
     "iopub.status.busy": "2024-08-29T16:09:03.903938Z",
     "iopub.status.idle": "2024-08-29T16:09:04.246021Z",
     "shell.execute_reply": "2024-08-29T16:09:04.244825Z"
    },
    "papermill": {
     "duration": 0.363783,
     "end_time": "2024-08-29T16:09:04.248528",
     "exception": false,
     "start_time": "2024-08-29T16:09:03.884745",
     "status": "completed"
    },
    "tags": []
   },
   "outputs": [
    {
     "data": {
      "image/png": "[encoded data removed]",
      "text/plain": [
       "<Figure size 640x480 with 1 Axes>"
      ]
     },
     "metadata": {},
     "output_type": "display_data"
    }
   ],
   "source": [
    "import matplotlib.pyplot as plt\n",
    "flag_counts = df['FLAG'].value_counts()\n",
    "plt.bar(flag_counts.index, flag_counts.values, color='blue')\n",
    "plt.title('Distribution of FLAG Values')\n",
    "plt.xlabel('FLAG')\n",
    "plt.ylabel('Counts')\n",
    "\n",
    "\n",
    "plt.show()\n"
   ]
  },
  {
   "cell_type": "code",
   "execution_count": 21,
   "id": "80f74645",
   "metadata": {
    "execution": {
     "iopub.execute_input": "2024-08-29T16:09:04.286741Z",
     "iopub.status.busy": "2024-08-29T16:09:04.286260Z",
     "iopub.status.idle": "2024-08-29T16:09:04.296407Z",
     "shell.execute_reply": "2024-08-29T16:09:04.295315Z"
    },
    "papermill": {
     "duration": 0.032446,
     "end_time": "2024-08-29T16:09:04.299138",
     "exception": false,
     "start_time": "2024-08-29T16:09:04.266692",
     "status": "completed"
    },
    "tags": []
   },
   "outputs": [],
   "source": [
    "fraud=df[df['FLAG']==1]\n",
    "not_fraud=df[df['FLAG']==0]"
   ]
  },
  {
   "cell_type": "code",
   "execution_count": 22,
   "id": "3863c71f",
   "metadata": {
    "execution": {
     "iopub.execute_input": "2024-08-29T16:09:04.338121Z",
     "iopub.status.busy": "2024-08-29T16:09:04.336965Z",
     "iopub.status.idle": "2024-08-29T16:09:04.344165Z",
     "shell.execute_reply": "2024-08-29T16:09:04.342739Z"
    },
    "papermill": {
     "duration": 0.029696,
     "end_time": "2024-08-29T16:09:04.346872",
     "exception": false,
     "start_time": "2024-08-29T16:09:04.317176",
     "status": "completed"
    },
    "tags": []
   },
   "outputs": [
    {
     "name": "stdout",
     "output_type": "stream",
     "text": [
      "(1350, 42) (7620, 42)\n"
     ]
    }
   ],
   "source": [
    "print(fraud.shape,not_fraud.shape)"
   ]
  },
  {
   "cell_type": "code",
   "execution_count": 23,
   "id": "50b966cd",
   "metadata": {
    "execution": {
     "iopub.execute_input": "2024-08-29T16:09:04.385981Z",
     "iopub.status.busy": "2024-08-29T16:09:04.384874Z",
     "iopub.status.idle": "2024-08-29T16:09:04.398117Z",
     "shell.execute_reply": "2024-08-29T16:09:04.396961Z"
    },
    "papermill": {
     "duration": 0.035808,
     "end_time": "2024-08-29T16:09:04.400961",
     "exception": false,
     "start_time": "2024-08-29T16:09:04.365153",
     "status": "completed"
    },
    "tags": []
   },
   "outputs": [],
   "source": [
    "#dropping the categorical features\n",
    "categories = df.select_dtypes('O').columns.astype('category')\n",
    "df.drop(df[categories], axis=1, inplace=True)"
   ]
  },
  {
   "cell_type": "code",
   "execution_count": 24,
   "id": "641bbe8f",
   "metadata": {
    "execution": {
     "iopub.execute_input": "2024-08-29T16:09:04.439695Z",
     "iopub.status.busy": "2024-08-29T16:09:04.439260Z",
     "iopub.status.idle": "2024-08-29T16:09:04.455870Z",
     "shell.execute_reply": "2024-08-29T16:09:04.453848Z"
    },
    "papermill": {
     "duration": 0.03952,
     "end_time": "2024-08-29T16:09:04.458765",
     "exception": false,
     "start_time": "2024-08-29T16:09:04.419245",
     "status": "completed"
    },
    "tags": []
   },
   "outputs": [
    {
     "name": "stdout",
     "output_type": "stream",
     "text": [
      "<class 'pandas.core.frame.DataFrame'>\n",
      "Index: 8970 entries, 0 to 9840\n",
      "Data columns (total 39 columns):\n",
      " #   Column                                                Non-Null Count  Dtype  \n",
      "---  ------                                                --------------  -----  \n",
      " 0   FLAG                                                  8970 non-null   int64  \n",
      " 1   Avg min between sent tnx                              8970 non-null   float64\n",
      " 2   Avg min between received tnx                          8970 non-null   float64\n",
      " 3   Time Diff between first and last (Mins)               8970 non-null   float64\n",
      " 4   Sent tnx                                              8970 non-null   int64  \n",
      " 5   Received Tnx                                          8970 non-null   int64  \n",
      " 6   Number of Created Contracts                           8970 non-null   int64  \n",
      " 7   Unique Received From Addresses                        8970 non-null   int64  \n",
      " 8   Unique Sent To Addresses                              8970 non-null   int64  \n",
      " 9   min value received                                    8970 non-null   float64\n",
      " 10  max value received                                    8970 non-null   float64\n",
      " 11  avg val received                                      8970 non-null   float64\n",
      " 12  min val sent                                          8970 non-null   float64\n",
      " 13  max val sent                                          8970 non-null   float64\n",
      " 14  avg val sent                                          8970 non-null   float64\n",
      " 15  min value sent to contract                            8970 non-null   float64\n",
      " 16  max val sent to contract                              8970 non-null   float64\n",
      " 17  avg value sent to contract                            8970 non-null   float64\n",
      " 18  total transactions (including tnx to create contract  8970 non-null   int64  \n",
      " 19  total Ether sent                                      8970 non-null   float64\n",
      " 20  total ether received                                  8970 non-null   float64\n",
      " 21  total ether sent contracts                            8970 non-null   float64\n",
      " 22  total ether balance                                   8970 non-null   float64\n",
      " 23  Total ERC20 tnxs                                      8970 non-null   float64\n",
      " 24  ERC20 total Ether received                            8970 non-null   float64\n",
      " 25  ERC20 total ether sent                                8970 non-null   float64\n",
      " 26  ERC20 total Ether sent contract                       8970 non-null   float64\n",
      " 27  ERC20 uniq sent addr                                  8970 non-null   float64\n",
      " 28  ERC20 uniq rec addr                                   8970 non-null   float64\n",
      " 29  ERC20 uniq sent addr.1                                8970 non-null   float64\n",
      " 30  ERC20 uniq rec contract addr                          8970 non-null   float64\n",
      " 31  ERC20 min val rec                                     8970 non-null   float64\n",
      " 32  ERC20 max val rec                                     8970 non-null   float64\n",
      " 33  ERC20 avg val rec                                     8970 non-null   float64\n",
      " 34  ERC20 min val sent                                    8970 non-null   float64\n",
      " 35  ERC20 max val sent                                    8970 non-null   float64\n",
      " 36  ERC20 avg val sent                                    8970 non-null   float64\n",
      " 37  ERC20 uniq sent token name                            8970 non-null   float64\n",
      " 38  ERC20 uniq rec token name                             8970 non-null   float64\n",
      "dtypes: float64(32), int64(7)\n",
      "memory usage: 2.7 MB\n"
     ]
    }
   ],
   "source": [
    "df.info()"
   ]
  },
  {
   "cell_type": "code",
   "execution_count": 25,
   "id": "27d87dc7",
   "metadata": {
    "execution": {
     "iopub.execute_input": "2024-08-29T16:09:04.498273Z",
     "iopub.status.busy": "2024-08-29T16:09:04.497721Z",
     "iopub.status.idle": "2024-08-29T16:09:04.517786Z",
     "shell.execute_reply": "2024-08-29T16:09:04.516562Z"
    },
    "papermill": {
     "duration": 0.042921,
     "end_time": "2024-08-29T16:09:04.520479",
     "exception": false,
     "start_time": "2024-08-29T16:09:04.477558",
     "status": "completed"
    },
    "tags": []
   },
   "outputs": [
    {
     "data": {
      "text/plain": [
       "FLAG                                                    False\n",
       "Avg min between sent tnx                                False\n",
       "Avg min between received tnx                            False\n",
       "Time Diff between first and last (Mins)                 False\n",
       "Sent tnx                                                False\n",
       "Received Tnx                                            False\n",
       "Number of Created Contracts                             False\n",
       "Unique Received From Addresses                          False\n",
       "Unique Sent To Addresses                                False\n",
       "min value received                                      False\n",
       "max value received                                      False\n",
       "avg val received                                        False\n",
       "min val sent                                            False\n",
       "max val sent                                            False\n",
       "avg val sent                                            False\n",
       "min value sent to contract                              False\n",
       "max val sent to contract                                False\n",
       "avg value sent to contract                              False\n",
       "total transactions (including tnx to create contract    False\n",
       "total Ether sent                                        False\n",
       "total ether received                                    False\n",
       "total ether sent contracts                              False\n",
       "total ether balance                                     False\n",
       "Total ERC20 tnxs                                        False\n",
       "ERC20 total Ether received                              False\n",
       "ERC20 total ether sent                                  False\n",
       "ERC20 total Ether sent contract                         False\n",
       "ERC20 uniq sent addr                                    False\n",
       "ERC20 uniq rec addr                                     False\n",
       "ERC20 uniq sent addr.1                                  False\n",
       "ERC20 uniq rec contract addr                            False\n",
       "ERC20 min val rec                                       False\n",
       "ERC20 max val rec                                       False\n",
       "ERC20 avg val rec                                       False\n",
       "ERC20 min val sent                                      False\n",
       "ERC20 max val sent                                      False\n",
       "ERC20 avg val sent                                      False\n",
       "ERC20 uniq sent token name                              False\n",
       "ERC20 uniq rec token name                               False\n",
       "dtype: bool"
      ]
     },
     "execution_count": 25,
     "metadata": {},
     "output_type": "execute_result"
    }
   ],
   "source": [
    "#we can see that there are no columns withvariance 0 therefore we can wsork with this dataset\n",
    "no_var=df.var()==0\n",
    "no_var"
   ]
  },
  {
   "cell_type": "code",
   "execution_count": 26,
   "id": "60baac66",
   "metadata": {
    "execution": {
     "iopub.execute_input": "2024-08-29T16:09:04.561893Z",
     "iopub.status.busy": "2024-08-29T16:09:04.560554Z",
     "iopub.status.idle": "2024-08-29T16:09:07.254045Z",
     "shell.execute_reply": "2024-08-29T16:09:07.252693Z"
    },
    "papermill": {
     "duration": 2.718162,
     "end_time": "2024-08-29T16:09:07.258192",
     "exception": false,
     "start_time": "2024-08-29T16:09:04.540030",
     "status": "completed"
    },
    "tags": []
   },
   "outputs": [
    {
     "data": {
      "text/plain": [
       "<Axes: >"
      ]
     },
     "execution_count": 26,
     "metadata": {},
     "output_type": "execute_result"
    },
    {
     "data": {
      "image/png": "[encoded data removed]",
      "text/plain": [
       "<Figure size 640x480 with 2 Axes>"
      ]
     },
     "metadata": {},
     "output_type": "display_data"
    }
   ],
   "source": [
    "import seaborn as sns\n",
    "sns.heatmap(df.corr(),cmap='coolwarm')"
   ]
  },
  {
   "cell_type": "code",
   "execution_count": 27,
   "id": "81646ea2",
   "metadata": {
    "execution": {
     "iopub.execute_input": "2024-08-29T16:09:07.307725Z",
     "iopub.status.busy": "2024-08-29T16:09:07.307068Z",
     "iopub.status.idle": "2024-08-29T16:09:07.362065Z",
     "shell.execute_reply": "2024-08-29T16:09:07.360851Z"
    },
    "papermill": {
     "duration": 0.082181,
     "end_time": "2024-08-29T16:09:07.364981",
     "exception": false,
     "start_time": "2024-08-29T16:09:07.282800",
     "status": "completed"
    },
    "tags": []
   },
   "outputs": [
    {
     "data": {
      "text/html": [
       "<div>\n",
       "<style scoped>\n",
       "    .dataframe tbody tr th:only-of-type {\n",
       "        vertical-align: middle;\n",
       "    }\n",
       "\n",
       "    .dataframe tbody tr th {\n",
       "        vertical-align: top;\n",
       "    }\n",
       "\n",
       "    .dataframe thead th {\n",
       "        text-align: right;\n",
       "    }\n",
       "</style>\n",
       "<table border=\"1\" class=\"dataframe\">\n",
       "  <thead>\n",
       "    <tr style=\"text-align: right;\">\n",
       "      <th></th>\n",
       "      <th>FLAG</th>\n",
       "    </tr>\n",
       "  </thead>\n",
       "  <tbody>\n",
       "    <tr>\n",
       "      <th>FLAG</th>\n",
       "      <td>1.000000</td>\n",
       "    </tr>\n",
       "    <tr>\n",
       "      <th>Avg min between sent tnx</th>\n",
       "      <td>-0.003960</td>\n",
       "    </tr>\n",
       "    <tr>\n",
       "      <th>Avg min between received tnx</th>\n",
       "      <td>-0.115521</td>\n",
       "    </tr>\n",
       "    <tr>\n",
       "      <th>Time Diff between first and last (Mins)</th>\n",
       "      <td>-0.212020</td>\n",
       "    </tr>\n",
       "    <tr>\n",
       "      <th>Sent tnx</th>\n",
       "      <td>-0.062630</td>\n",
       "    </tr>\n",
       "    <tr>\n",
       "      <th>Received Tnx</th>\n",
       "      <td>-0.061158</td>\n",
       "    </tr>\n",
       "    <tr>\n",
       "      <th>Number of Created Contracts</th>\n",
       "      <td>-0.011469</td>\n",
       "    </tr>\n",
       "    <tr>\n",
       "      <th>Unique Received From Addresses</th>\n",
       "      <td>-0.019454</td>\n",
       "    </tr>\n",
       "    <tr>\n",
       "      <th>Unique Sent To Addresses</th>\n",
       "      <td>-0.036198</td>\n",
       "    </tr>\n",
       "    <tr>\n",
       "      <th>min value received</th>\n",
       "      <td>-0.002466</td>\n",
       "    </tr>\n",
       "    <tr>\n",
       "      <th>max value received</th>\n",
       "      <td>-0.015158</td>\n",
       "    </tr>\n",
       "    <tr>\n",
       "      <th>avg val received</th>\n",
       "      <td>-0.007685</td>\n",
       "    </tr>\n",
       "    <tr>\n",
       "      <th>min val sent</th>\n",
       "      <td>0.011693</td>\n",
       "    </tr>\n",
       "    <tr>\n",
       "      <th>max val sent</th>\n",
       "      <td>-0.017658</td>\n",
       "    </tr>\n",
       "    <tr>\n",
       "      <th>avg val sent</th>\n",
       "      <td>-0.043203</td>\n",
       "    </tr>\n",
       "    <tr>\n",
       "      <th>min value sent to contract</th>\n",
       "      <td>-0.005963</td>\n",
       "    </tr>\n",
       "    <tr>\n",
       "      <th>max val sent to contract</th>\n",
       "      <td>-0.006604</td>\n",
       "    </tr>\n",
       "    <tr>\n",
       "      <th>avg value sent to contract</th>\n",
       "      <td>-0.007344</td>\n",
       "    </tr>\n",
       "    <tr>\n",
       "      <th>total transactions (including tnx to create contract</th>\n",
       "      <td>-0.078640</td>\n",
       "    </tr>\n",
       "    <tr>\n",
       "      <th>total Ether sent</th>\n",
       "      <td>-0.012339</td>\n",
       "    </tr>\n",
       "    <tr>\n",
       "      <th>total ether received</th>\n",
       "      <td>-0.013875</td>\n",
       "    </tr>\n",
       "    <tr>\n",
       "      <th>total ether sent contracts</th>\n",
       "      <td>-0.006604</td>\n",
       "    </tr>\n",
       "    <tr>\n",
       "      <th>total ether balance</th>\n",
       "      <td>-0.002607</td>\n",
       "    </tr>\n",
       "    <tr>\n",
       "      <th>Total ERC20 tnxs</th>\n",
       "      <td>-0.025815</td>\n",
       "    </tr>\n",
       "    <tr>\n",
       "      <th>ERC20 total Ether received</th>\n",
       "      <td>-0.004494</td>\n",
       "    </tr>\n",
       "    <tr>\n",
       "      <th>ERC20 total ether sent</th>\n",
       "      <td>0.024751</td>\n",
       "    </tr>\n",
       "    <tr>\n",
       "      <th>ERC20 total Ether sent contract</th>\n",
       "      <td>0.013484</td>\n",
       "    </tr>\n",
       "    <tr>\n",
       "      <th>ERC20 uniq sent addr</th>\n",
       "      <td>-0.020555</td>\n",
       "    </tr>\n",
       "    <tr>\n",
       "      <th>ERC20 uniq rec addr</th>\n",
       "      <td>-0.017640</td>\n",
       "    </tr>\n",
       "    <tr>\n",
       "      <th>ERC20 uniq sent addr.1</th>\n",
       "      <td>-0.003151</td>\n",
       "    </tr>\n",
       "    <tr>\n",
       "      <th>ERC20 uniq rec contract addr</th>\n",
       "      <td>-0.018601</td>\n",
       "    </tr>\n",
       "    <tr>\n",
       "      <th>ERC20 min val rec</th>\n",
       "      <td>0.011111</td>\n",
       "    </tr>\n",
       "    <tr>\n",
       "      <th>ERC20 max val rec</th>\n",
       "      <td>-0.004331</td>\n",
       "    </tr>\n",
       "    <tr>\n",
       "      <th>ERC20 avg val rec</th>\n",
       "      <td>0.007894</td>\n",
       "    </tr>\n",
       "    <tr>\n",
       "      <th>ERC20 min val sent</th>\n",
       "      <td>0.025353</td>\n",
       "    </tr>\n",
       "    <tr>\n",
       "      <th>ERC20 max val sent</th>\n",
       "      <td>0.025027</td>\n",
       "    </tr>\n",
       "    <tr>\n",
       "      <th>ERC20 avg val sent</th>\n",
       "      <td>0.025033</td>\n",
       "    </tr>\n",
       "    <tr>\n",
       "      <th>ERC20 uniq sent token name</th>\n",
       "      <td>0.009099</td>\n",
       "    </tr>\n",
       "    <tr>\n",
       "      <th>ERC20 uniq rec token name</th>\n",
       "      <td>-0.018125</td>\n",
       "    </tr>\n",
       "  </tbody>\n",
       "</table>\n",
       "</div>"
      ],
      "text/plain": [
       "                                                        FLAG\n",
       "FLAG                                                1.000000\n",
       "Avg min between sent tnx                           -0.003960\n",
       "Avg min between received tnx                       -0.115521\n",
       "Time Diff between first and last (Mins)            -0.212020\n",
       "Sent tnx                                           -0.062630\n",
       "Received Tnx                                       -0.061158\n",
       "Number of Created Contracts                        -0.011469\n",
       "Unique Received From Addresses                     -0.019454\n",
       "Unique Sent To Addresses                           -0.036198\n",
       "min value received                                 -0.002466\n",
       "max value received                                 -0.015158\n",
       "avg val received                                   -0.007685\n",
       "min val sent                                        0.011693\n",
       "max val sent                                       -0.017658\n",
       "avg val sent                                       -0.043203\n",
       "min value sent to contract                         -0.005963\n",
       "max val sent to contract                           -0.006604\n",
       "avg value sent to contract                         -0.007344\n",
       "total transactions (including tnx to create con... -0.078640\n",
       "total Ether sent                                   -0.012339\n",
       "total ether received                               -0.013875\n",
       "total ether sent contracts                         -0.006604\n",
       "total ether balance                                -0.002607\n",
       "Total ERC20 tnxs                                   -0.025815\n",
       "ERC20 total Ether received                         -0.004494\n",
       "ERC20 total ether sent                              0.024751\n",
       "ERC20 total Ether sent contract                     0.013484\n",
       "ERC20 uniq sent addr                               -0.020555\n",
       "ERC20 uniq rec addr                                -0.017640\n",
       "ERC20 uniq sent addr.1                             -0.003151\n",
       "ERC20 uniq rec contract addr                       -0.018601\n",
       "ERC20 min val rec                                   0.011111\n",
       "ERC20 max val rec                                  -0.004331\n",
       "ERC20 avg val rec                                   0.007894\n",
       "ERC20 min val sent                                  0.025353\n",
       "ERC20 max val sent                                  0.025027\n",
       "ERC20 avg val sent                                  0.025033\n",
       "ERC20 uniq sent token name                          0.009099\n",
       "ERC20 uniq rec token name                          -0.018125"
      ]
     },
     "execution_count": 27,
     "metadata": {},
     "output_type": "execute_result"
    }
   ],
   "source": [
    "df.corr()[['FLAG']]"
   ]
  },
  {
   "cell_type": "code",
   "execution_count": 28,
   "id": "99b6d8dd",
   "metadata": {
    "execution": {
     "iopub.execute_input": "2024-08-29T16:09:07.411074Z",
     "iopub.status.busy": "2024-08-29T16:09:07.410566Z",
     "iopub.status.idle": "2024-08-29T16:09:07.427430Z",
     "shell.execute_reply": "2024-08-29T16:09:07.426137Z"
    },
    "papermill": {
     "duration": 0.043815,
     "end_time": "2024-08-29T16:09:07.430924",
     "exception": false,
     "start_time": "2024-08-29T16:09:07.387109",
     "status": "completed"
    },
    "tags": []
   },
   "outputs": [
    {
     "name": "stdout",
     "output_type": "stream",
     "text": [
      "<class 'pandas.core.frame.DataFrame'>\n",
      "Index: 8970 entries, 0 to 9840\n",
      "Data columns (total 39 columns):\n",
      " #   Column                                                Non-Null Count  Dtype  \n",
      "---  ------                                                --------------  -----  \n",
      " 0   FLAG                                                  8970 non-null   int64  \n",
      " 1   Avg min between sent tnx                              8970 non-null   float64\n",
      " 2   Avg min between received tnx                          8970 non-null   float64\n",
      " 3   Time Diff between first and last (Mins)               8970 non-null   float64\n",
      " 4   Sent tnx                                              8970 non-null   int64  \n",
      " 5   Received Tnx                                          8970 non-null   int64  \n",
      " 6   Number of Created Contracts                           8970 non-null   int64  \n",
      " 7   Unique Received From Addresses                        8970 non-null   int64  \n",
      " 8   Unique Sent To Addresses                              8970 non-null   int64  \n",
      " 9   min value received                                    8970 non-null   float64\n",
      " 10  max value received                                    8970 non-null   float64\n",
      " 11  avg val received                                      8970 non-null   float64\n",
      " 12  min val sent                                          8970 non-null   float64\n",
      " 13  max val sent                                          8970 non-null   float64\n",
      " 14  avg val sent                                          8970 non-null   float64\n",
      " 15  min value sent to contract                            8970 non-null   float64\n",
      " 16  max val sent to contract                              8970 non-null   float64\n",
      " 17  avg value sent to contract                            8970 non-null   float64\n",
      " 18  total transactions (including tnx to create contract  8970 non-null   int64  \n",
      " 19  total Ether sent                                      8970 non-null   float64\n",
      " 20  total ether received                                  8970 non-null   float64\n",
      " 21  total ether sent contracts                            8970 non-null   float64\n",
      " 22  total ether balance                                   8970 non-null   float64\n",
      " 23  Total ERC20 tnxs                                      8970 non-null   float64\n",
      " 24  ERC20 total Ether received                            8970 non-null   float64\n",
      " 25  ERC20 total ether sent                                8970 non-null   float64\n",
      " 26  ERC20 total Ether sent contract                       8970 non-null   float64\n",
      " 27  ERC20 uniq sent addr                                  8970 non-null   float64\n",
      " 28  ERC20 uniq rec addr                                   8970 non-null   float64\n",
      " 29  ERC20 uniq sent addr.1                                8970 non-null   float64\n",
      " 30  ERC20 uniq rec contract addr                          8970 non-null   float64\n",
      " 31  ERC20 min val rec                                     8970 non-null   float64\n",
      " 32  ERC20 max val rec                                     8970 non-null   float64\n",
      " 33  ERC20 avg val rec                                     8970 non-null   float64\n",
      " 34  ERC20 min val sent                                    8970 non-null   float64\n",
      " 35  ERC20 max val sent                                    8970 non-null   float64\n",
      " 36  ERC20 avg val sent                                    8970 non-null   float64\n",
      " 37  ERC20 uniq sent token name                            8970 non-null   float64\n",
      " 38  ERC20 uniq rec token name                             8970 non-null   float64\n",
      "dtypes: float64(32), int64(7)\n",
      "memory usage: 2.7 MB\n"
     ]
    }
   ],
   "source": [
    "df.info()"
   ]
  },
  {
   "cell_type": "code",
   "execution_count": 29,
   "id": "c37db056",
   "metadata": {
    "execution": {
     "iopub.execute_input": "2024-08-29T16:09:07.479527Z",
     "iopub.status.busy": "2024-08-29T16:09:07.478965Z",
     "iopub.status.idle": "2024-08-29T16:09:07.488012Z",
     "shell.execute_reply": "2024-08-29T16:09:07.486627Z"
    },
    "papermill": {
     "duration": 0.038106,
     "end_time": "2024-08-29T16:09:07.491403",
     "exception": false,
     "start_time": "2024-08-29T16:09:07.453297",
     "status": "completed"
    },
    "tags": []
   },
   "outputs": [],
   "source": [
    "y=df['FLAG']\n",
    "X=df.drop('FLAG',axis=1)"
   ]
  },
  {
   "cell_type": "code",
   "execution_count": 30,
   "id": "7d26b902",
   "metadata": {
    "execution": {
     "iopub.execute_input": "2024-08-29T16:09:07.542986Z",
     "iopub.status.busy": "2024-08-29T16:09:07.542381Z",
     "iopub.status.idle": "2024-08-29T16:09:07.927287Z",
     "shell.execute_reply": "2024-08-29T16:09:07.925856Z"
    },
    "papermill": {
     "duration": 0.415951,
     "end_time": "2024-08-29T16:09:07.930256",
     "exception": false,
     "start_time": "2024-08-29T16:09:07.514305",
     "status": "completed"
    },
    "tags": []
   },
   "outputs": [],
   "source": [
    "from sklearn.model_selection import train_test_split\n",
    "X_train,X_test,y_train,y_test=train_test_split(X,y,test_size=0.2,random_state=43)"
   ]
  },
  {
   "cell_type": "code",
   "execution_count": 31,
   "id": "9b8ba0fe",
   "metadata": {
    "execution": {
     "iopub.execute_input": "2024-08-29T16:09:07.976054Z",
     "iopub.status.busy": "2024-08-29T16:09:07.975574Z",
     "iopub.status.idle": "2024-08-29T16:09:07.983282Z",
     "shell.execute_reply": "2024-08-29T16:09:07.982082Z"
    },
    "papermill": {
     "duration": 0.033625,
     "end_time": "2024-08-29T16:09:07.985896",
     "exception": false,
     "start_time": "2024-08-29T16:09:07.952271",
     "status": "completed"
    },
    "tags": []
   },
   "outputs": [
    {
     "data": {
      "text/plain": [
       "(7176, 38)"
      ]
     },
     "execution_count": 31,
     "metadata": {},
     "output_type": "execute_result"
    }
   ],
   "source": [
    "X_train.shape"
   ]
  },
  {
   "cell_type": "code",
   "execution_count": 32,
   "id": "36ee5797",
   "metadata": {
    "execution": {
     "iopub.execute_input": "2024-08-29T16:09:08.031685Z",
     "iopub.status.busy": "2024-08-29T16:09:08.031213Z",
     "iopub.status.idle": "2024-08-29T16:09:08.040940Z",
     "shell.execute_reply": "2024-08-29T16:09:08.039623Z"
    },
    "papermill": {
     "duration": 0.035696,
     "end_time": "2024-08-29T16:09:08.043620",
     "exception": false,
     "start_time": "2024-08-29T16:09:08.007924",
     "status": "completed"
    },
    "tags": []
   },
   "outputs": [
    {
     "data": {
      "text/plain": [
       "4998    0\n",
       "1191    0\n",
       "3762    0\n",
       "9639    1\n",
       "8968    1\n",
       "       ..\n",
       "9077    1\n",
       "2077    0\n",
       "8240    1\n",
       "2317    0\n",
       "3414    0\n",
       "Name: FLAG, Length: 7176, dtype: int64"
      ]
     },
     "execution_count": 32,
     "metadata": {},
     "output_type": "execute_result"
    }
   ],
   "source": [
    "y_train"
   ]
  },
  {
   "cell_type": "code",
   "execution_count": 33,
   "id": "39fb7f97",
   "metadata": {
    "execution": {
     "iopub.execute_input": "2024-08-29T16:09:08.101066Z",
     "iopub.status.busy": "2024-08-29T16:09:08.100464Z",
     "iopub.status.idle": "2024-08-29T16:09:08.106914Z",
     "shell.execute_reply": "2024-08-29T16:09:08.105484Z"
    },
    "papermill": {
     "duration": 0.036359,
     "end_time": "2024-08-29T16:09:08.110059",
     "exception": false,
     "start_time": "2024-08-29T16:09:08.073700",
     "status": "completed"
    },
    "tags": []
   },
   "outputs": [],
   "source": [
    "from sklearn.preprocessing import StandardScaler\n",
    "sc=StandardScaler()"
   ]
  },
  {
   "cell_type": "code",
   "execution_count": 34,
   "id": "0707c2a0",
   "metadata": {
    "execution": {
     "iopub.execute_input": "2024-08-29T16:09:08.165105Z",
     "iopub.status.busy": "2024-08-29T16:09:08.164609Z",
     "iopub.status.idle": "2024-08-29T16:09:08.183771Z",
     "shell.execute_reply": "2024-08-29T16:09:08.182348Z"
    },
    "papermill": {
     "duration": 0.046583,
     "end_time": "2024-08-29T16:09:08.186804",
     "exception": false,
     "start_time": "2024-08-29T16:09:08.140221",
     "status": "completed"
    },
    "tags": []
   },
   "outputs": [],
   "source": [
    "x_train=sc.fit_transform(X_train)\n"
   ]
  },
  {
   "cell_type": "code",
   "execution_count": 35,
   "id": "1be08e21",
   "metadata": {
    "execution": {
     "iopub.execute_input": "2024-08-29T16:09:08.232661Z",
     "iopub.status.busy": "2024-08-29T16:09:08.232234Z",
     "iopub.status.idle": "2024-08-29T16:09:08.245107Z",
     "shell.execute_reply": "2024-08-29T16:09:08.243893Z"
    },
    "papermill": {
     "duration": 0.039304,
     "end_time": "2024-08-29T16:09:08.247961",
     "exception": false,
     "start_time": "2024-08-29T16:09:08.208657",
     "status": "completed"
    },
    "tags": []
   },
   "outputs": [
    {
     "data": {
      "text/plain": [
       "array([[-0.23803814, -0.34872154, -0.70460561, ..., -0.01195607,\n",
       "        -0.22422972, -0.31456586],\n",
       "       [-0.11388261,  2.52574226,  0.44490438, ..., -0.01195607,\n",
       "        -0.06030628,  0.08279215],\n",
       "       [-0.23253544,  0.75557933,  0.17210264, ..., -0.01195607,\n",
       "        -0.22422972, -0.31456586],\n",
       "       ...,\n",
       "       [-0.23799232, -0.3487245 , -0.70460339, ..., -0.01195607,\n",
       "        -0.22422972, -0.31456586],\n",
       "       [-0.23754662,  0.35317524,  0.20676104, ..., -0.01195607,\n",
       "        -0.22422972, -0.31456586],\n",
       "       [-0.23783107, -0.3487245 , -0.7045694 , ..., -0.01195607,\n",
       "        -0.22422972, -0.31456586]])"
      ]
     },
     "execution_count": 35,
     "metadata": {},
     "output_type": "execute_result"
    }
   ],
   "source": [
    "x_test=sc.transform(X_test)\n",
    "x_test"
   ]
  },
  {
   "cell_type": "code",
   "execution_count": 36,
   "id": "ef7ad868",
   "metadata": {
    "execution": {
     "iopub.execute_input": "2024-08-29T16:09:08.351446Z",
     "iopub.status.busy": "2024-08-29T16:09:08.350986Z",
     "iopub.status.idle": "2024-08-29T16:09:08.386430Z",
     "shell.execute_reply": "2024-08-29T16:09:08.385194Z"
    },
    "papermill": {
     "duration": 0.118873,
     "end_time": "2024-08-29T16:09:08.388934",
     "exception": false,
     "start_time": "2024-08-29T16:09:08.270061",
     "status": "completed"
    },
    "tags": []
   },
   "outputs": [
    {
     "data": {
      "text/html": [
       "<div>\n",
       "<style scoped>\n",
       "    .dataframe tbody tr th:only-of-type {\n",
       "        vertical-align: middle;\n",
       "    }\n",
       "\n",
       "    .dataframe tbody tr th {\n",
       "        vertical-align: top;\n",
       "    }\n",
       "\n",
       "    .dataframe thead th {\n",
       "        text-align: right;\n",
       "    }\n",
       "</style>\n",
       "<table border=\"1\" class=\"dataframe\">\n",
       "  <thead>\n",
       "    <tr style=\"text-align: right;\">\n",
       "      <th></th>\n",
       "      <th>Avg min between sent tnx</th>\n",
       "      <th>Avg min between received tnx</th>\n",
       "      <th>Time Diff between first and last (Mins)</th>\n",
       "      <th>Sent tnx</th>\n",
       "      <th>Received Tnx</th>\n",
       "      <th>Number of Created Contracts</th>\n",
       "      <th>Unique Received From Addresses</th>\n",
       "      <th>Unique Sent To Addresses</th>\n",
       "      <th>min value received</th>\n",
       "      <th>max value received</th>\n",
       "      <th>...</th>\n",
       "      <th>ERC20 uniq sent addr.1</th>\n",
       "      <th>ERC20 uniq rec contract addr</th>\n",
       "      <th>ERC20 min val rec</th>\n",
       "      <th>ERC20 max val rec</th>\n",
       "      <th>ERC20 avg val rec</th>\n",
       "      <th>ERC20 min val sent</th>\n",
       "      <th>ERC20 max val sent</th>\n",
       "      <th>ERC20 avg val sent</th>\n",
       "      <th>ERC20 uniq sent token name</th>\n",
       "      <th>ERC20 uniq rec token name</th>\n",
       "    </tr>\n",
       "  </thead>\n",
       "  <tbody>\n",
       "    <tr>\n",
       "      <th>0</th>\n",
       "      <td>-0.128037</td>\n",
       "      <td>-0.290595</td>\n",
       "      <td>2.293443</td>\n",
       "      <td>0.236897</td>\n",
       "      <td>-0.018645</td>\n",
       "      <td>-0.030526</td>\n",
       "      <td>0.087254</td>\n",
       "      <td>0.107251</td>\n",
       "      <td>-0.140373</td>\n",
       "      <td>0.022867</td>\n",
       "      <td>...</td>\n",
       "      <td>-0.05176</td>\n",
       "      <td>5.361635</td>\n",
       "      <td>-0.030806</td>\n",
       "      <td>-0.007687</td>\n",
       "      <td>-0.010719</td>\n",
       "      <td>-0.012286</td>\n",
       "      <td>0.010455</td>\n",
       "      <td>-0.010879</td>\n",
       "      <td>4.857397</td>\n",
       "      <td>5.380899</td>\n",
       "    </tr>\n",
       "    <tr>\n",
       "      <th>1</th>\n",
       "      <td>-0.238138</td>\n",
       "      <td>-0.247944</td>\n",
       "      <td>0.181578</td>\n",
       "      <td>-0.159774</td>\n",
       "      <td>-0.048442</td>\n",
       "      <td>-0.024488</td>\n",
       "      <td>-0.092308</td>\n",
       "      <td>-0.104577</td>\n",
       "      <td>-0.140402</td>\n",
       "      <td>-0.043032</td>\n",
       "      <td>...</td>\n",
       "      <td>-0.05176</td>\n",
       "      <td>-0.053025</td>\n",
       "      <td>-0.030806</td>\n",
       "      <td>-0.012770</td>\n",
       "      <td>-0.017523</td>\n",
       "      <td>-0.012286</td>\n",
       "      <td>-0.012236</td>\n",
       "      <td>-0.011956</td>\n",
       "      <td>-0.224230</td>\n",
       "      <td>-0.049661</td>\n",
       "    </tr>\n",
       "    <tr>\n",
       "      <th>2</th>\n",
       "      <td>-0.238138</td>\n",
       "      <td>-0.348724</td>\n",
       "      <td>-0.704626</td>\n",
       "      <td>-0.158477</td>\n",
       "      <td>-0.177209</td>\n",
       "      <td>-0.030526</td>\n",
       "      <td>-0.098609</td>\n",
       "      <td>-0.100726</td>\n",
       "      <td>-0.132771</td>\n",
       "      <td>-0.042891</td>\n",
       "      <td>...</td>\n",
       "      <td>-0.05176</td>\n",
       "      <td>-0.310866</td>\n",
       "      <td>-0.030806</td>\n",
       "      <td>-0.012770</td>\n",
       "      <td>-0.017523</td>\n",
       "      <td>-0.012286</td>\n",
       "      <td>-0.012236</td>\n",
       "      <td>-0.011956</td>\n",
       "      <td>-0.224230</td>\n",
       "      <td>-0.314566</td>\n",
       "    </tr>\n",
       "    <tr>\n",
       "      <th>3</th>\n",
       "      <td>-0.238138</td>\n",
       "      <td>-0.348724</td>\n",
       "      <td>-0.704634</td>\n",
       "      <td>-0.159774</td>\n",
       "      <td>-0.178273</td>\n",
       "      <td>-0.030526</td>\n",
       "      <td>-0.101759</td>\n",
       "      <td>-0.104577</td>\n",
       "      <td>-0.140402</td>\n",
       "      <td>-0.043066</td>\n",
       "      <td>...</td>\n",
       "      <td>-0.05176</td>\n",
       "      <td>-0.246406</td>\n",
       "      <td>-0.030735</td>\n",
       "      <td>-0.012770</td>\n",
       "      <td>-0.017523</td>\n",
       "      <td>-0.012286</td>\n",
       "      <td>-0.012236</td>\n",
       "      <td>-0.011956</td>\n",
       "      <td>-0.224230</td>\n",
       "      <td>-0.248340</td>\n",
       "    </tr>\n",
       "    <tr>\n",
       "      <th>4</th>\n",
       "      <td>-0.231132</td>\n",
       "      <td>-0.340759</td>\n",
       "      <td>-0.702500</td>\n",
       "      <td>-0.157181</td>\n",
       "      <td>-0.176144</td>\n",
       "      <td>-0.030526</td>\n",
       "      <td>-0.095459</td>\n",
       "      <td>-0.096874</td>\n",
       "      <td>-0.140402</td>\n",
       "      <td>-0.043034</td>\n",
       "      <td>...</td>\n",
       "      <td>-0.05176</td>\n",
       "      <td>-0.310866</td>\n",
       "      <td>-0.030806</td>\n",
       "      <td>-0.012770</td>\n",
       "      <td>-0.017523</td>\n",
       "      <td>-0.012202</td>\n",
       "      <td>-0.012236</td>\n",
       "      <td>-0.011956</td>\n",
       "      <td>-0.060306</td>\n",
       "      <td>-0.314566</td>\n",
       "    </tr>\n",
       "    <tr>\n",
       "      <th>...</th>\n",
       "      <td>...</td>\n",
       "      <td>...</td>\n",
       "      <td>...</td>\n",
       "      <td>...</td>\n",
       "      <td>...</td>\n",
       "      <td>...</td>\n",
       "      <td>...</td>\n",
       "      <td>...</td>\n",
       "      <td>...</td>\n",
       "      <td>...</td>\n",
       "      <td>...</td>\n",
       "      <td>...</td>\n",
       "      <td>...</td>\n",
       "      <td>...</td>\n",
       "      <td>...</td>\n",
       "      <td>...</td>\n",
       "      <td>...</td>\n",
       "      <td>...</td>\n",
       "      <td>...</td>\n",
       "      <td>...</td>\n",
       "      <td>...</td>\n",
       "    </tr>\n",
       "    <tr>\n",
       "      <th>7171</th>\n",
       "      <td>-0.238138</td>\n",
       "      <td>-0.348724</td>\n",
       "      <td>-0.704634</td>\n",
       "      <td>-0.159774</td>\n",
       "      <td>-0.178273</td>\n",
       "      <td>-0.030526</td>\n",
       "      <td>-0.101759</td>\n",
       "      <td>-0.104577</td>\n",
       "      <td>-0.140402</td>\n",
       "      <td>-0.043066</td>\n",
       "      <td>...</td>\n",
       "      <td>-0.05176</td>\n",
       "      <td>-0.246406</td>\n",
       "      <td>-0.030735</td>\n",
       "      <td>-0.012770</td>\n",
       "      <td>-0.017523</td>\n",
       "      <td>-0.012286</td>\n",
       "      <td>-0.012236</td>\n",
       "      <td>-0.011956</td>\n",
       "      <td>-0.224230</td>\n",
       "      <td>-0.248340</td>\n",
       "    </tr>\n",
       "    <tr>\n",
       "      <th>7172</th>\n",
       "      <td>0.342466</td>\n",
       "      <td>0.340555</td>\n",
       "      <td>2.155213</td>\n",
       "      <td>-0.091069</td>\n",
       "      <td>-0.163374</td>\n",
       "      <td>-0.030526</td>\n",
       "      <td>-0.060806</td>\n",
       "      <td>-0.027549</td>\n",
       "      <td>-0.140144</td>\n",
       "      <td>-0.042315</td>\n",
       "      <td>...</td>\n",
       "      <td>-0.05176</td>\n",
       "      <td>2.654305</td>\n",
       "      <td>-0.030806</td>\n",
       "      <td>-0.012769</td>\n",
       "      <td>-0.017521</td>\n",
       "      <td>-0.012286</td>\n",
       "      <td>-0.012235</td>\n",
       "      <td>-0.011954</td>\n",
       "      <td>1.251081</td>\n",
       "      <td>2.665619</td>\n",
       "    </tr>\n",
       "    <tr>\n",
       "      <th>7173</th>\n",
       "      <td>0.023679</td>\n",
       "      <td>-0.276968</td>\n",
       "      <td>0.135787</td>\n",
       "      <td>-0.116995</td>\n",
       "      <td>-0.130384</td>\n",
       "      <td>-0.030526</td>\n",
       "      <td>0.021099</td>\n",
       "      <td>-0.089171</td>\n",
       "      <td>-0.140402</td>\n",
       "      <td>-0.042704</td>\n",
       "      <td>...</td>\n",
       "      <td>-0.05176</td>\n",
       "      <td>0.075895</td>\n",
       "      <td>-0.030806</td>\n",
       "      <td>-0.012769</td>\n",
       "      <td>-0.017507</td>\n",
       "      <td>0.002430</td>\n",
       "      <td>-0.012223</td>\n",
       "      <td>-0.011930</td>\n",
       "      <td>-0.060306</td>\n",
       "      <td>0.082792</td>\n",
       "    </tr>\n",
       "    <tr>\n",
       "      <th>7174</th>\n",
       "      <td>-0.237290</td>\n",
       "      <td>-0.348724</td>\n",
       "      <td>-0.704455</td>\n",
       "      <td>-0.155885</td>\n",
       "      <td>-0.177209</td>\n",
       "      <td>-0.030526</td>\n",
       "      <td>-0.098609</td>\n",
       "      <td>-0.093023</td>\n",
       "      <td>0.149355</td>\n",
       "      <td>-0.036407</td>\n",
       "      <td>...</td>\n",
       "      <td>-0.05176</td>\n",
       "      <td>-0.310866</td>\n",
       "      <td>-0.030806</td>\n",
       "      <td>-0.012770</td>\n",
       "      <td>-0.017523</td>\n",
       "      <td>-0.012286</td>\n",
       "      <td>-0.012236</td>\n",
       "      <td>-0.011956</td>\n",
       "      <td>-0.224230</td>\n",
       "      <td>-0.314566</td>\n",
       "    </tr>\n",
       "    <tr>\n",
       "      <th>7175</th>\n",
       "      <td>-0.237850</td>\n",
       "      <td>-0.348724</td>\n",
       "      <td>-0.704573</td>\n",
       "      <td>-0.155885</td>\n",
       "      <td>-0.176144</td>\n",
       "      <td>-0.030526</td>\n",
       "      <td>-0.095459</td>\n",
       "      <td>-0.093023</td>\n",
       "      <td>2.078162</td>\n",
       "      <td>0.037879</td>\n",
       "      <td>...</td>\n",
       "      <td>-0.05176</td>\n",
       "      <td>-0.310866</td>\n",
       "      <td>-0.030806</td>\n",
       "      <td>-0.012770</td>\n",
       "      <td>-0.017523</td>\n",
       "      <td>-0.012286</td>\n",
       "      <td>-0.012236</td>\n",
       "      <td>-0.011956</td>\n",
       "      <td>-0.224230</td>\n",
       "      <td>-0.314566</td>\n",
       "    </tr>\n",
       "  </tbody>\n",
       "</table>\n",
       "<p>7176 rows × 38 columns</p>\n",
       "</div>"
      ],
      "text/plain": [
       "      Avg min between sent tnx  Avg min between received tnx  \\\n",
       "0                    -0.128037                     -0.290595   \n",
       "1                    -0.238138                     -0.247944   \n",
       "2                    -0.238138                     -0.348724   \n",
       "3                    -0.238138                     -0.348724   \n",
       "4                    -0.231132                     -0.340759   \n",
       "...                        ...                           ...   \n",
       "7171                 -0.238138                     -0.348724   \n",
       "7172                  0.342466                      0.340555   \n",
       "7173                  0.023679                     -0.276968   \n",
       "7174                 -0.237290                     -0.348724   \n",
       "7175                 -0.237850                     -0.348724   \n",
       "\n",
       "      Time Diff between first and last (Mins)  Sent tnx  Received Tnx  \\\n",
       "0                                    2.293443  0.236897     -0.018645   \n",
       "1                                    0.181578 -0.159774     -0.048442   \n",
       "2                                   -0.704626 -0.158477     -0.177209   \n",
       "3                                   -0.704634 -0.159774     -0.178273   \n",
       "4                                   -0.702500 -0.157181     -0.176144   \n",
       "...                                       ...       ...           ...   \n",
       "7171                                -0.704634 -0.159774     -0.178273   \n",
       "7172                                 2.155213 -0.091069     -0.163374   \n",
       "7173                                 0.135787 -0.116995     -0.130384   \n",
       "7174                                -0.704455 -0.155885     -0.177209   \n",
       "7175                                -0.704573 -0.155885     -0.176144   \n",
       "\n",
       "      Number of Created Contracts  Unique Received From Addresses  \\\n",
       "0                       -0.030526                        0.087254   \n",
       "1                       -0.024488                       -0.092308   \n",
       "2                       -0.030526                       -0.098609   \n",
       "3                       -0.030526                       -0.101759   \n",
       "4                       -0.030526                       -0.095459   \n",
       "...                           ...                             ...   \n",
       "7171                    -0.030526                       -0.101759   \n",
       "7172                    -0.030526                       -0.060806   \n",
       "7173                    -0.030526                        0.021099   \n",
       "7174                    -0.030526                       -0.098609   \n",
       "7175                    -0.030526                       -0.095459   \n",
       "\n",
       "      Unique Sent To Addresses  min value received  max value received  ...  \\\n",
       "0                     0.107251           -0.140373            0.022867  ...   \n",
       "1                    -0.104577           -0.140402           -0.043032  ...   \n",
       "2                    -0.100726           -0.132771           -0.042891  ...   \n",
       "3                    -0.104577           -0.140402           -0.043066  ...   \n",
       "4                    -0.096874           -0.140402           -0.043034  ...   \n",
       "...                        ...                 ...                 ...  ...   \n",
       "7171                 -0.104577           -0.140402           -0.043066  ...   \n",
       "7172                 -0.027549           -0.140144           -0.042315  ...   \n",
       "7173                 -0.089171           -0.140402           -0.042704  ...   \n",
       "7174                 -0.093023            0.149355           -0.036407  ...   \n",
       "7175                 -0.093023            2.078162            0.037879  ...   \n",
       "\n",
       "      ERC20 uniq sent addr.1  ERC20 uniq rec contract addr  ERC20 min val rec  \\\n",
       "0                   -0.05176                      5.361635          -0.030806   \n",
       "1                   -0.05176                     -0.053025          -0.030806   \n",
       "2                   -0.05176                     -0.310866          -0.030806   \n",
       "3                   -0.05176                     -0.246406          -0.030735   \n",
       "4                   -0.05176                     -0.310866          -0.030806   \n",
       "...                      ...                           ...                ...   \n",
       "7171                -0.05176                     -0.246406          -0.030735   \n",
       "7172                -0.05176                      2.654305          -0.030806   \n",
       "7173                -0.05176                      0.075895          -0.030806   \n",
       "7174                -0.05176                     -0.310866          -0.030806   \n",
       "7175                -0.05176                     -0.310866          -0.030806   \n",
       "\n",
       "      ERC20 max val rec  ERC20 avg val rec  ERC20 min val sent  \\\n",
       "0             -0.007687          -0.010719           -0.012286   \n",
       "1             -0.012770          -0.017523           -0.012286   \n",
       "2             -0.012770          -0.017523           -0.012286   \n",
       "3             -0.012770          -0.017523           -0.012286   \n",
       "4             -0.012770          -0.017523           -0.012202   \n",
       "...                 ...                ...                 ...   \n",
       "7171          -0.012770          -0.017523           -0.012286   \n",
       "7172          -0.012769          -0.017521           -0.012286   \n",
       "7173          -0.012769          -0.017507            0.002430   \n",
       "7174          -0.012770          -0.017523           -0.012286   \n",
       "7175          -0.012770          -0.017523           -0.012286   \n",
       "\n",
       "      ERC20 max val sent  ERC20 avg val sent  ERC20 uniq sent token name  \\\n",
       "0               0.010455           -0.010879                    4.857397   \n",
       "1              -0.012236           -0.011956                   -0.224230   \n",
       "2              -0.012236           -0.011956                   -0.224230   \n",
       "3              -0.012236           -0.011956                   -0.224230   \n",
       "4              -0.012236           -0.011956                   -0.060306   \n",
       "...                  ...                 ...                         ...   \n",
       "7171           -0.012236           -0.011956                   -0.224230   \n",
       "7172           -0.012235           -0.011954                    1.251081   \n",
       "7173           -0.012223           -0.011930                   -0.060306   \n",
       "7174           -0.012236           -0.011956                   -0.224230   \n",
       "7175           -0.012236           -0.011956                   -0.224230   \n",
       "\n",
       "      ERC20 uniq rec token name  \n",
       "0                      5.380899  \n",
       "1                     -0.049661  \n",
       "2                     -0.314566  \n",
       "3                     -0.248340  \n",
       "4                     -0.314566  \n",
       "...                         ...  \n",
       "7171                  -0.248340  \n",
       "7172                   2.665619  \n",
       "7173                   0.082792  \n",
       "7174                  -0.314566  \n",
       "7175                  -0.314566  \n",
       "\n",
       "[7176 rows x 38 columns]"
      ]
     },
     "execution_count": 36,
     "metadata": {},
     "output_type": "execute_result"
    }
   ],
   "source": [
    "sc_df = pd.DataFrame(x_train, columns=X_train.columns)\n",
    "sc_df"
   ]
  },
  {
   "cell_type": "code",
   "execution_count": 37,
   "id": "347ad7dd",
   "metadata": {
    "execution": {
     "iopub.execute_input": "2024-08-29T16:09:08.438749Z",
     "iopub.status.busy": "2024-08-29T16:09:08.438255Z",
     "iopub.status.idle": "2024-08-29T16:09:08.446395Z",
     "shell.execute_reply": "2024-08-29T16:09:08.445048Z"
    },
    "papermill": {
     "duration": 0.035554,
     "end_time": "2024-08-29T16:09:08.449057",
     "exception": false,
     "start_time": "2024-08-29T16:09:08.413503",
     "status": "completed"
    },
    "tags": []
   },
   "outputs": [
    {
     "data": {
      "text/plain": [
       "(7176, 38)"
      ]
     },
     "execution_count": 37,
     "metadata": {},
     "output_type": "execute_result"
    }
   ],
   "source": [
    "sc_df.shape"
   ]
  },
  {
   "cell_type": "markdown",
   "id": "3bd2f355",
   "metadata": {
    "papermill": {
     "duration": 0.023338,
     "end_time": "2024-08-29T16:09:08.495425",
     "exception": false,
     "start_time": "2024-08-29T16:09:08.472087",
     "status": "completed"
    },
    "tags": []
   },
   "source": [
    "either we can do under sampling or we can do over sampling "
   ]
  },
  {
   "cell_type": "code",
   "execution_count": 38,
   "id": "0d317e67",
   "metadata": {
    "execution": {
     "iopub.execute_input": "2024-08-29T16:09:08.543510Z",
     "iopub.status.busy": "2024-08-29T16:09:08.543052Z",
     "iopub.status.idle": "2024-08-29T16:09:09.151507Z",
     "shell.execute_reply": "2024-08-29T16:09:09.150275Z"
    },
    "papermill": {
     "duration": 0.636349,
     "end_time": "2024-08-29T16:09:09.154911",
     "exception": false,
     "start_time": "2024-08-29T16:09:08.518562",
     "status": "completed"
    },
    "tags": []
   },
   "outputs": [],
   "source": [
    "#doing under sampling\n",
    "from imblearn.under_sampling import NearMiss\n",
    "nm = NearMiss()\n",
    "X_res,y_res=nm.fit_resample(x_train,y_train)"
   ]
  },
  {
   "cell_type": "code",
   "execution_count": 39,
   "id": "f0ea9fa1",
   "metadata": {
    "execution": {
     "iopub.execute_input": "2024-08-29T16:09:09.204337Z",
     "iopub.status.busy": "2024-08-29T16:09:09.203707Z",
     "iopub.status.idle": "2024-08-29T16:09:09.212528Z",
     "shell.execute_reply": "2024-08-29T16:09:09.210907Z"
    },
    "papermill": {
     "duration": 0.036914,
     "end_time": "2024-08-29T16:09:09.215392",
     "exception": false,
     "start_time": "2024-08-29T16:09:09.178478",
     "status": "completed"
    },
    "tags": []
   },
   "outputs": [
    {
     "data": {
      "text/plain": [
       "(2108,)"
      ]
     },
     "execution_count": 39,
     "metadata": {},
     "output_type": "execute_result"
    }
   ],
   "source": [
    "y_res.shape\n"
   ]
  },
  {
   "cell_type": "code",
   "execution_count": 40,
   "id": "95b71b5e",
   "metadata": {
    "execution": {
     "iopub.execute_input": "2024-08-29T16:09:09.264656Z",
     "iopub.status.busy": "2024-08-29T16:09:09.264219Z",
     "iopub.status.idle": "2024-08-29T16:09:09.273392Z",
     "shell.execute_reply": "2024-08-29T16:09:09.271939Z"
    },
    "papermill": {
     "duration": 0.03806,
     "end_time": "2024-08-29T16:09:09.276924",
     "exception": false,
     "start_time": "2024-08-29T16:09:09.238864",
     "status": "completed"
    },
    "tags": []
   },
   "outputs": [
    {
     "name": "stdout",
     "output_type": "stream",
     "text": [
      "Original dataset shape Counter({0: 6122, 1: 1054})\n",
      "Resampled dataset shape Counter({0: 1054, 1: 1054})\n"
     ]
    }
   ],
   "source": [
    "from collections import Counter\n",
    "print('Original dataset shape {}'.format(Counter(y_train)))\n",
    "print('Resampled dataset shape {}'.format(Counter(y_res)))"
   ]
  },
  {
   "cell_type": "code",
   "execution_count": 41,
   "id": "e772f23d",
   "metadata": {
    "execution": {
     "iopub.execute_input": "2024-08-29T16:09:09.326980Z",
     "iopub.status.busy": "2024-08-29T16:09:09.326523Z",
     "iopub.status.idle": "2024-08-29T16:09:09.810316Z",
     "shell.execute_reply": "2024-08-29T16:09:09.808542Z"
    },
    "papermill": {
     "duration": 0.512538,
     "end_time": "2024-08-29T16:09:09.813417",
     "exception": false,
     "start_time": "2024-08-29T16:09:09.300879",
     "status": "completed"
    },
    "tags": []
   },
   "outputs": [
    {
     "data": {
      "text/html": [
       "<style>#sk-container-id-1 {color: black;background-color: white;}#sk-container-id-1 pre{padding: 0;}#sk-container-id-1 div.sk-toggleable {background-color: white;}#sk-container-id-1 label.sk-toggleable__label {cursor: pointer;display: block;width: 100%;margin-bottom: 0;padding: 0.3em;box-sizing: border-box;text-align: center;}#sk-container-id-1 label.sk-toggleable__label-arrow:before {content: \"▸\";float: left;margin-right: 0.25em;color: #696969;}#sk-container-id-1 label.sk-toggleable__label-arrow:hover:before {color: black;}#sk-container-id-1 div.sk-estimator:hover label.sk-toggleable__label-arrow:before {color: black;}#sk-container-id-1 div.sk-toggleable__content {max-height: 0;max-width: 0;overflow: hidden;text-align: left;background-color: #f0f8ff;}#sk-container-id-1 div.sk-toggleable__content pre {margin: 0.2em;color: black;border-radius: 0.25em;background-color: #f0f8ff;}#sk-container-id-1 input.sk-toggleable__control:checked~div.sk-toggleable__content {max-height: 200px;max-width: 100%;overflow: auto;}#sk-container-id-1 input.sk-toggleable__control:checked~label.sk-toggleable__label-arrow:before {content: \"▾\";}#sk-container-id-1 div.sk-estimator input.sk-toggleable__control:checked~label.sk-toggleable__label {background-color: #d4ebff;}#sk-container-id-1 div.sk-label input.sk-toggleable__control:checked~label.sk-toggleable__label {background-color: #d4ebff;}#sk-container-id-1 input.sk-hidden--visually {border: 0;clip: rect(1px 1px 1px 1px);clip: rect(1px, 1px, 1px, 1px);height: 1px;margin: -1px;overflow: hidden;padding: 0;position: absolute;width: 1px;}#sk-container-id-1 div.sk-estimator {font-family: monospace;background-color: #f0f8ff;border: 1px dotted black;border-radius: 0.25em;box-sizing: border-box;margin-bottom: 0.5em;}#sk-container-id-1 div.sk-estimator:hover {background-color: #d4ebff;}#sk-container-id-1 div.sk-parallel-item::after {content: \"\";width: 100%;border-bottom: 1px solid gray;flex-grow: 1;}#sk-container-id-1 div.sk-label:hover label.sk-toggleable__label {background-color: #d4ebff;}#sk-container-id-1 div.sk-serial::before {content: \"\";position: absolute;border-left: 1px solid gray;box-sizing: border-box;top: 0;bottom: 0;left: 50%;z-index: 0;}#sk-container-id-1 div.sk-serial {display: flex;flex-direction: column;align-items: center;background-color: white;padding-right: 0.2em;padding-left: 0.2em;position: relative;}#sk-container-id-1 div.sk-item {position: relative;z-index: 1;}#sk-container-id-1 div.sk-parallel {display: flex;align-items: stretch;justify-content: center;background-color: white;position: relative;}#sk-container-id-1 div.sk-item::before, #sk-container-id-1 div.sk-parallel-item::before {content: \"\";position: absolute;border-left: 1px solid gray;box-sizing: border-box;top: 0;bottom: 0;left: 50%;z-index: -1;}#sk-container-id-1 div.sk-parallel-item {display: flex;flex-direction: column;z-index: 1;position: relative;background-color: white;}#sk-container-id-1 div.sk-parallel-item:first-child::after {align-self: flex-end;width: 50%;}#sk-container-id-1 div.sk-parallel-item:last-child::after {align-self: flex-start;width: 50%;}#sk-container-id-1 div.sk-parallel-item:only-child::after {width: 0;}#sk-container-id-1 div.sk-dashed-wrapped {border: 1px dashed gray;margin: 0 0.4em 0.5em 0.4em;box-sizing: border-box;padding-bottom: 0.4em;background-color: white;}#sk-container-id-1 div.sk-label label {font-family: monospace;font-weight: bold;display: inline-block;line-height: 1.2em;}#sk-container-id-1 div.sk-label-container {text-align: center;}#sk-container-id-1 div.sk-container {/* jupyter's `normalize.less` sets `[hidden] { display: none; }` but bootstrap.min.css set `[hidden] { display: none !important; }` so we also need the `!important` here to be able to override the default hidden behavior on the sphinx rendered scikit-learn.org. See: https://github.com/scikit-learn/scikit-learn/issues/21755 */display: inline-block !important;position: relative;}#sk-container-id-1 div.sk-text-repr-fallback {display: none;}</style><div id=\"sk-container-id-1\" class=\"sk-top-container\"><div class=\"sk-text-repr-fallback\"><pre>RandomForestClassifier()</pre><b>In a Jupyter environment, please rerun this cell to show the HTML representation or trust the notebook. <br />On GitHub, the HTML representation is unable to render, please try loading this page with nbviewer.org.</b></div><div class=\"sk-container\" hidden><div class=\"sk-item\"><div class=\"sk-estimator sk-toggleable\"><input class=\"sk-toggleable__control sk-hidden--visually\" id=\"sk-estimator-id-1\" type=\"checkbox\" checked><label for=\"sk-estimator-id-1\" class=\"sk-toggleable__label sk-toggleable__label-arrow\">RandomForestClassifier</label><div class=\"sk-toggleable__content\"><pre>RandomForestClassifier()</pre></div></div></div></div></div>"
      ],
      "text/plain": [
       "RandomForestClassifier()"
      ]
     },
     "execution_count": 41,
     "metadata": {},
     "output_type": "execute_result"
    }
   ],
   "source": [
    "from sklearn.ensemble import RandomForestClassifier\n",
    "classifier=RandomForestClassifier()\n",
    "classifier.fit(X_res,y_res)"
   ]
  },
  {
   "cell_type": "code",
   "execution_count": 42,
   "id": "8d4427f9",
   "metadata": {
    "execution": {
     "iopub.execute_input": "2024-08-29T16:09:09.865064Z",
     "iopub.status.busy": "2024-08-29T16:09:09.864567Z",
     "iopub.status.idle": "2024-08-29T16:09:09.915786Z",
     "shell.execute_reply": "2024-08-29T16:09:09.913943Z"
    },
    "papermill": {
     "duration": 0.08064,
     "end_time": "2024-08-29T16:09:09.918740",
     "exception": false,
     "start_time": "2024-08-29T16:09:09.838100",
     "status": "completed"
    },
    "tags": []
   },
   "outputs": [
    {
     "name": "stdout",
     "output_type": "stream",
     "text": [
      "[[956 542]\n",
      " [  2 294]]\n",
      "0.6967670011148273\n",
      "              precision    recall  f1-score   support\n",
      "\n",
      "           0       1.00      0.64      0.78      1498\n",
      "           1       0.35      0.99      0.52       296\n",
      "\n",
      "    accuracy                           0.70      1794\n",
      "   macro avg       0.67      0.82      0.65      1794\n",
      "weighted avg       0.89      0.70      0.74      1794\n",
      "\n"
     ]
    }
   ],
   "source": [
    "#did not get good results from under sampling therefore doing over sampling\n",
    "from sklearn.metrics import accuracy_score,confusion_matrix,classification_report\n",
    "y_pred=classifier.predict(x_test)\n",
    "print(confusion_matrix(y_test,y_pred))\n",
    "print(accuracy_score(y_test,y_pred))\n",
    "print(classification_report(y_test,y_pred))"
   ]
  },
  {
   "cell_type": "code",
   "execution_count": 43,
   "id": "7ba4fd5e",
   "metadata": {
    "execution": {
     "iopub.execute_input": "2024-08-29T16:09:09.970949Z",
     "iopub.status.busy": "2024-08-29T16:09:09.970436Z",
     "iopub.status.idle": "2024-08-29T16:09:09.990066Z",
     "shell.execute_reply": "2024-08-29T16:09:09.988548Z"
    },
    "papermill": {
     "duration": 0.049238,
     "end_time": "2024-08-29T16:09:09.993113",
     "exception": false,
     "start_time": "2024-08-29T16:09:09.943875",
     "status": "completed"
    },
    "tags": []
   },
   "outputs": [],
   "source": [
    "#oversampling\n",
    "from imblearn.over_sampling import RandomOverSampler\n",
    "os =  RandomOverSampler()\n",
    "X_train_os, y_train_os = os.fit_resample(x_train, y_train)"
   ]
  },
  {
   "cell_type": "code",
   "execution_count": 44,
   "id": "6288eb9a",
   "metadata": {
    "execution": {
     "iopub.execute_input": "2024-08-29T16:09:10.043106Z",
     "iopub.status.busy": "2024-08-29T16:09:10.042645Z",
     "iopub.status.idle": "2024-08-29T16:09:10.049877Z",
     "shell.execute_reply": "2024-08-29T16:09:10.048240Z"
    },
    "papermill": {
     "duration": 0.035604,
     "end_time": "2024-08-29T16:09:10.052956",
     "exception": false,
     "start_time": "2024-08-29T16:09:10.017352",
     "status": "completed"
    },
    "tags": []
   },
   "outputs": [
    {
     "name": "stdout",
     "output_type": "stream",
     "text": [
      "(12244, 38) (12244,)\n"
     ]
    }
   ],
   "source": [
    "print(X_train_os.shape,y_train_os.shape)"
   ]
  },
  {
   "cell_type": "code",
   "execution_count": 45,
   "id": "a16a1bbf",
   "metadata": {
    "execution": {
     "iopub.execute_input": "2024-08-29T16:09:10.103471Z",
     "iopub.status.busy": "2024-08-29T16:09:10.103006Z",
     "iopub.status.idle": "2024-08-29T16:09:12.257060Z",
     "shell.execute_reply": "2024-08-29T16:09:12.255749Z"
    },
    "papermill": {
     "duration": 2.182276,
     "end_time": "2024-08-29T16:09:12.259718",
     "exception": false,
     "start_time": "2024-08-29T16:09:10.077442",
     "status": "completed"
    },
    "tags": []
   },
   "outputs": [
    {
     "data": {
      "text/html": [
       "<style>#sk-container-id-2 {color: black;background-color: white;}#sk-container-id-2 pre{padding: 0;}#sk-container-id-2 div.sk-toggleable {background-color: white;}#sk-container-id-2 label.sk-toggleable__label {cursor: pointer;display: block;width: 100%;margin-bottom: 0;padding: 0.3em;box-sizing: border-box;text-align: center;}#sk-container-id-2 label.sk-toggleable__label-arrow:before {content: \"▸\";float: left;margin-right: 0.25em;color: #696969;}#sk-container-id-2 label.sk-toggleable__label-arrow:hover:before {color: black;}#sk-container-id-2 div.sk-estimator:hover label.sk-toggleable__label-arrow:before {color: black;}#sk-container-id-2 div.sk-toggleable__content {max-height: 0;max-width: 0;overflow: hidden;text-align: left;background-color: #f0f8ff;}#sk-container-id-2 div.sk-toggleable__content pre {margin: 0.2em;color: black;border-radius: 0.25em;background-color: #f0f8ff;}#sk-container-id-2 input.sk-toggleable__control:checked~div.sk-toggleable__content {max-height: 200px;max-width: 100%;overflow: auto;}#sk-container-id-2 input.sk-toggleable__control:checked~label.sk-toggleable__label-arrow:before {content: \"▾\";}#sk-container-id-2 div.sk-estimator input.sk-toggleable__control:checked~label.sk-toggleable__label {background-color: #d4ebff;}#sk-container-id-2 div.sk-label input.sk-toggleable__control:checked~label.sk-toggleable__label {background-color: #d4ebff;}#sk-container-id-2 input.sk-hidden--visually {border: 0;clip: rect(1px 1px 1px 1px);clip: rect(1px, 1px, 1px, 1px);height: 1px;margin: -1px;overflow: hidden;padding: 0;position: absolute;width: 1px;}#sk-container-id-2 div.sk-estimator {font-family: monospace;background-color: #f0f8ff;border: 1px dotted black;border-radius: 0.25em;box-sizing: border-box;margin-bottom: 0.5em;}#sk-container-id-2 div.sk-estimator:hover {background-color: #d4ebff;}#sk-container-id-2 div.sk-parallel-item::after {content: \"\";width: 100%;border-bottom: 1px solid gray;flex-grow: 1;}#sk-container-id-2 div.sk-label:hover label.sk-toggleable__label {background-color: #d4ebff;}#sk-container-id-2 div.sk-serial::before {content: \"\";position: absolute;border-left: 1px solid gray;box-sizing: border-box;top: 0;bottom: 0;left: 50%;z-index: 0;}#sk-container-id-2 div.sk-serial {display: flex;flex-direction: column;align-items: center;background-color: white;padding-right: 0.2em;padding-left: 0.2em;position: relative;}#sk-container-id-2 div.sk-item {position: relative;z-index: 1;}#sk-container-id-2 div.sk-parallel {display: flex;align-items: stretch;justify-content: center;background-color: white;position: relative;}#sk-container-id-2 div.sk-item::before, #sk-container-id-2 div.sk-parallel-item::before {content: \"\";position: absolute;border-left: 1px solid gray;box-sizing: border-box;top: 0;bottom: 0;left: 50%;z-index: -1;}#sk-container-id-2 div.sk-parallel-item {display: flex;flex-direction: column;z-index: 1;position: relative;background-color: white;}#sk-container-id-2 div.sk-parallel-item:first-child::after {align-self: flex-end;width: 50%;}#sk-container-id-2 div.sk-parallel-item:last-child::after {align-self: flex-start;width: 50%;}#sk-container-id-2 div.sk-parallel-item:only-child::after {width: 0;}#sk-container-id-2 div.sk-dashed-wrapped {border: 1px dashed gray;margin: 0 0.4em 0.5em 0.4em;box-sizing: border-box;padding-bottom: 0.4em;background-color: white;}#sk-container-id-2 div.sk-label label {font-family: monospace;font-weight: bold;display: inline-block;line-height: 1.2em;}#sk-container-id-2 div.sk-label-container {text-align: center;}#sk-container-id-2 div.sk-container {/* jupyter's `normalize.less` sets `[hidden] { display: none; }` but bootstrap.min.css set `[hidden] { display: none !important; }` so we also need the `!important` here to be able to override the default hidden behavior on the sphinx rendered scikit-learn.org. See: https://github.com/scikit-learn/scikit-learn/issues/21755 */display: inline-block !important;position: relative;}#sk-container-id-2 div.sk-text-repr-fallback {display: none;}</style><div id=\"sk-container-id-2\" class=\"sk-top-container\"><div class=\"sk-text-repr-fallback\"><pre>RandomForestClassifier()</pre><b>In a Jupyter environment, please rerun this cell to show the HTML representation or trust the notebook. <br />On GitHub, the HTML representation is unable to render, please try loading this page with nbviewer.org.</b></div><div class=\"sk-container\" hidden><div class=\"sk-item\"><div class=\"sk-estimator sk-toggleable\"><input class=\"sk-toggleable__control sk-hidden--visually\" id=\"sk-estimator-id-2\" type=\"checkbox\" checked><label for=\"sk-estimator-id-2\" class=\"sk-toggleable__label sk-toggleable__label-arrow\">RandomForestClassifier</label><div class=\"sk-toggleable__content\"><pre>RandomForestClassifier()</pre></div></div></div></div></div>"
      ],
      "text/plain": [
       "RandomForestClassifier()"
      ]
     },
     "execution_count": 45,
     "metadata": {},
     "output_type": "execute_result"
    }
   ],
   "source": [
    "from sklearn.ensemble import RandomForestClassifier\n",
    "classifier=RandomForestClassifier()\n",
    "classifier.fit(X_train_os,y_train_os)"
   ]
  },
  {
   "cell_type": "code",
   "execution_count": 46,
   "id": "9ac96fbc",
   "metadata": {
    "execution": {
     "iopub.execute_input": "2024-08-29T16:09:12.315210Z",
     "iopub.status.busy": "2024-08-29T16:09:12.314754Z",
     "iopub.status.idle": "2024-08-29T16:09:12.366127Z",
     "shell.execute_reply": "2024-08-29T16:09:12.364462Z"
    },
    "papermill": {
     "duration": 0.083484,
     "end_time": "2024-08-29T16:09:12.369366",
     "exception": false,
     "start_time": "2024-08-29T16:09:12.285882",
     "status": "completed"
    },
    "tags": []
   },
   "outputs": [
    {
     "name": "stdout",
     "output_type": "stream",
     "text": [
      "[[1495    3]\n",
      " [  32  264]]\n",
      "0.9804905239687849\n",
      "              precision    recall  f1-score   support\n",
      "\n",
      "           0       0.98      1.00      0.99      1498\n",
      "           1       0.99      0.89      0.94       296\n",
      "\n",
      "    accuracy                           0.98      1794\n",
      "   macro avg       0.98      0.94      0.96      1794\n",
      "weighted avg       0.98      0.98      0.98      1794\n",
      "\n"
     ]
    }
   ],
   "source": [
    "#we can see that we got good results after oversampling instead of undersampling\n",
    "from sklearn.metrics import accuracy_score,confusion_matrix,classification_report\n",
    "y_pred=classifier.predict(x_test)\n",
    "print(confusion_matrix(y_test,y_pred))\n",
    "print(accuracy_score(y_test,y_pred))\n",
    "print(classification_report(y_test,y_pred))"
   ]
  },
  {
   "cell_type": "markdown",
   "id": "efb36931",
   "metadata": {
    "papermill": {
     "duration": 0.024091,
     "end_time": "2024-08-29T16:09:12.418751",
     "exception": false,
     "start_time": "2024-08-29T16:09:12.394660",
     "status": "completed"
    },
    "tags": []
   },
   "source": [
    "I applied both over and under sampling but got the best result with the over sampling that is my model is able to acheive 98% accuracy with high precision and recall"
   ]
  },
  {
   "cell_type": "code",
   "execution_count": null,
   "id": "4145e0aa",
   "metadata": {
    "papermill": {
     "duration": 0.023742,
     "end_time": "2024-08-29T16:09:12.467357",
     "exception": false,
     "start_time": "2024-08-29T16:09:12.443615",
     "status": "completed"
    },
    "tags": []
   },
   "outputs": [],
   "source": []
  }
 ],
 "metadata": {
  "kaggle": {
   "accelerator": "none",
   "dataSources": [
    {
     "datasetId": 1074447,
     "sourceId": 1808584,
     "sourceType": "datasetVersion"
    }
   ],
   "dockerImageVersionId": 30761,
   "isGpuEnabled": false,
   "isInternetEnabled": true,
   "language": "python",
   "sourceType": "notebook"
  },
  "kernelspec": {
   "display_name": "Python 3",
   "language": "python",
   "name": "python3"
  },
  "language_info": {
   "codemirror_mode": {
    "name": "ipython",
    "version": 3
   },
   "file_extension": ".py",
   "mimetype": "text/x-python",
   "name": "python",
   "nbconvert_exporter": "python",
   "pygments_lexer": "ipython3",
   "version": "3.10.14"
  },
  "papermill": {
   "default_parameters": {},
   "duration": 14.205921,
   "end_time": "2024-08-29T16:09:13.214286",
   "environment_variables": {},
   "exception": null,
   "input_path": "__notebook__.ipynb",
   "output_path": "__notebook__.ipynb",
   "parameters": {},
   "start_time": "2024-08-29T16:08:59.008365",
   "version": "2.6.0"
  }
 },
 "nbformat": 4,
 "nbformat_minor": 5
}
